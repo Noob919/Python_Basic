{
  "nbformat": 4,
  "nbformat_minor": 0,
  "metadata": {
    "colab": {
      "name": "internship_task.ipynb",
      "provenance": [],
      "collapsed_sections": [],
      "authorship_tag": "ABX9TyNGHOQc2sj+ZVd1j/L8J7aL",
      "include_colab_link": true
    },
    "kernelspec": {
      "name": "python3",
      "display_name": "Python 3"
    },
    "language_info": {
      "name": "python"
    }
  },
  "cells": [
    {
      "cell_type": "markdown",
      "metadata": {
        "id": "view-in-github",
        "colab_type": "text"
      },
      "source": [
        "<a href=\"https://colab.research.google.com/github/Noob919/Python_Basic/blob/main/internship_task.ipynb\" target=\"_parent\"><img src=\"https://colab.research.google.com/assets/colab-badge.svg\" alt=\"Open In Colab\"/></a>"
      ]
    },
    {
      "cell_type": "code",
      "source": [
        "!pip install PyPDF2"
      ],
      "metadata": {
        "colab": {
          "base_uri": "https://localhost:8080/"
        },
        "id": "wC_fJUuYpuEw",
        "outputId": "5b3c90e7-009d-4f51-9cfb-11461a3675fe"
      },
      "execution_count": null,
      "outputs": [
        {
          "output_type": "stream",
          "name": "stdout",
          "text": [
            "Requirement already satisfied: PyPDF2 in /usr/local/lib/python3.7/dist-packages (1.26.0)\n"
          ]
        }
      ]
    },
    {
      "cell_type": "code",
      "execution_count": null,
      "metadata": {
        "id": "zXXs5KKdop-u"
      },
      "outputs": [],
      "source": [
        "import re\n",
        "import PyPDF2"
      ]
    },
    {
      "cell_type": "code",
      "source": [
        "Pdfobj  = open('SampleDocForInterns.pdf', 'rb')\n",
        "pdfReader = PyPDF2.PdfFileReader(Pdfobj)"
      ],
      "metadata": {
        "id": "oAuORe1AoxlC"
      },
      "execution_count": null,
      "outputs": []
    },
    {
      "cell_type": "markdown",
      "source": [
        "Task1 and 2"
      ],
      "metadata": {
        "id": "Qx8o9o8cNPCj"
      }
    },
    {
      "cell_type": "code",
      "source": [
        "read  = pdfReader.getPage(6).extractText()"
      ],
      "metadata": {
        "id": "4HBX-cC5rx4a"
      },
      "execution_count": null,
      "outputs": []
    },
    {
      "cell_type": "code",
      "source": [
        "patterns  = re.compile(r'The seam annealed area shall be cooled \\nat an appropriate rate to produce a refined grain microstructure \\(grain size \\n8 or finer\\).').finditer(read)"
      ],
      "metadata": {
        "id": "oS1OUlY_05Ly"
      },
      "execution_count": null,
      "outputs": []
    },
    {
      "cell_type": "code",
      "source": [
        "for pattern in patterns:\n",
        "    pattern.group()\n",
        "with open('readings.txt','w') as f:\n",
        "    f.write(pattern.group())"
      ],
      "metadata": {
        "id": "zMgL_SVdIpAQ"
      },
      "execution_count": null,
      "outputs": []
    },
    {
      "cell_type": "code",
      "source": [
        "read2  = pdfReader.getPage(20).extractText()"
      ],
      "metadata": {
        "id": "TT5h620Ahk7K"
      },
      "execution_count": null,
      "outputs": []
    },
    {
      "cell_type": "code",
      "source": [
        "patterns2  = re.compile(r'\\sThe reverse bend test shall be carried out with \\sa mandrel, whose radius \\(R\\), or width \\(A\\) shall be calculated for \\nany combination of diameter, wall thickness and grade with the\\n formula, referred to in Figure 9 of API 5L, except the peaking \\nfactor shall be at 1.4').finditer(read2)"
      ],
      "metadata": {
        "id": "13nojSyHhIjV"
      },
      "execution_count": null,
      "outputs": []
    },
    {
      "cell_type": "code",
      "source": [
        "for pattern in patterns2:\n",
        "    pattern.group()\n",
        "with open(\"/content/readings.txt\", \"a\") as f:\n",
        "    f.write(pattern.group())\n",
        "    f.close()"
      ],
      "metadata": {
        "id": "s02Nn7IQKhgI"
      },
      "execution_count": null,
      "outputs": []
    },
    {
      "cell_type": "code",
      "source": [
        "read3  = pdfReader.getPage(15).extractText()"
      ],
      "metadata": {
        "id": "jPIBOsJsoUH_"
      },
      "execution_count": null,
      "outputs": []
    },
    {
      "cell_type": "code",
      "source": [
        "patterns3  = re.compile(r'Straightness \\(full length\\)\\n 1 in every \\n20 pipe\\n every 4 hr\\n 0.15% pipe length').finditer(read3)"
      ],
      "metadata": {
        "id": "xsJnHXV6pXvG"
      },
      "execution_count": null,
      "outputs": []
    },
    {
      "cell_type": "code",
      "source": [
        "for pattern in patterns3:\n",
        "    pattern.group()\n",
        "with open(\"/content/readings.txt\", \"a\") as f:\n",
        "    f.write(pattern.group())\n",
        "    f.close()"
      ],
      "metadata": {
        "id": "rgPYVkOlpkWs"
      },
      "execution_count": null,
      "outputs": []
    },
    {
      "cell_type": "code",
      "source": [
        "read4  = pdfReader.getPage(11).extractText()"
      ],
      "metadata": {
        "id": "iNVTheR9pryv"
      },
      "execution_count": null,
      "outputs": []
    },
    {
      "cell_type": "code",
      "source": [
        "patterns4  = re.compile(r'DWT test temperature \\nshall be \\+\\s14.F \\(\\n.10.C\\)').finditer(read4)"
      ],
      "metadata": {
        "id": "NijKRcD5sA4d"
      },
      "execution_count": null,
      "outputs": []
    },
    {
      "cell_type": "code",
      "source": [
        "for pattern in patterns4:\n",
        "    pattern.group()\n",
        "with open(\"/content/readings.txt\", \"a\") as f:\n",
        "    f.write(pattern.group())\n",
        "    f.close()"
      ],
      "metadata": {
        "id": "dcvJnuxGsPck"
      },
      "execution_count": null,
      "outputs": []
    },
    {
      "cell_type": "markdown",
      "source": [
        "Task3"
      ],
      "metadata": {
        "id": "k0yI6UyiNUHS"
      }
    },
    {
      "cell_type": "code",
      "source": [
        "string  = 'the DWT test temperature shall be +14°F (-10°C)'"
      ],
      "metadata": {
        "id": "XSp1ELTDsR_e"
      },
      "execution_count": null,
      "outputs": []
    },
    {
      "cell_type": "code",
      "source": [
        "ps  = re.compile(r'.\\d\\d..').finditer(string)"
      ],
      "metadata": {
        "id": "P7twmV2lw_ji"
      },
      "execution_count": null,
      "outputs": []
    },
    {
      "cell_type": "code",
      "source": [
        "for p in ps:\n",
        "   print(p)"
      ],
      "metadata": {
        "id": "QBkIXL2NxZPB"
      },
      "execution_count": null,
      "outputs": []
    },
    {
      "cell_type": "code",
      "source": [
        "print(\"DWT test temperature in Fahrenheit\",string[34:39])\n",
        "print(\"DWT test temperature in Celsius\",string[41:46])"
      ],
      "metadata": {
        "colab": {
          "base_uri": "https://localhost:8080/"
        },
        "id": "-u34tXNJPm1Y",
        "outputId": "3b416d36-1ba3-41d4-a1ed-a84033ed03fd"
      },
      "execution_count": null,
      "outputs": [
        {
          "output_type": "stream",
          "name": "stdout",
          "text": [
            "DWT test temperature in Fahrenheit +14°F\n",
            "DWT test temperature in Celsius -10°C\n"
          ]
        }
      ]
    },
    {
      "cell_type": "markdown",
      "source": [
        "Task4"
      ],
      "metadata": {
        "id": "QPLfU3fdQ4YB"
      }
    },
    {
      "cell_type": "code",
      "source": [
        "String2  = \"10.2.6.5 All pipes shall be hydrostatically tested to a pressure that will produce a hoop stress of at least 100% SMYS. In the event of individual pipe distortion, or failure to meet dimensional requirements, hydrostatic pressure may be reduced to 95% SMYS for individual pipes with COMPANY approval. Pressure is to be incrementally stepped down prior to reducing pressure to 95% SMYS. Hydraulic pumps shall not activate during the 15 second test duration. Hydrostatic testing shall be carried out on each pipe prior to final visual and final non-destructive inspection, except that cutting to length, beveling or correction to pipe end out-of-roundness may take place after hydrostatic testing.\"\n",
        "ps  = re.compile(r'\\d\\d.').finditer(String2)"
      ],
      "metadata": {
        "id": "fQl098Q8x0jF"
      },
      "execution_count": null,
      "outputs": []
    },
    {
      "cell_type": "code",
      "source": [
        "for p in ps:\n",
        "  print(p)"
      ],
      "metadata": {
        "colab": {
          "base_uri": "https://localhost:8080/"
        },
        "id": "DQzKlG-UOmrf",
        "outputId": "abe39a89-3c91-4883-def6-32d52b13a729"
      },
      "execution_count": null,
      "outputs": [
        {
          "output_type": "stream",
          "name": "stdout",
          "text": [
            "<re.Match object; span=(0, 3), match='10.'>\n",
            "<re.Match object; span=(109, 112), match='100'>\n",
            "<re.Match object; span=(248, 251), match='95%'>\n",
            "<re.Match object; span=(376, 379), match='95%'>\n",
            "<re.Match object; span=(432, 435), match='15 '>\n"
          ]
        }
      ]
    },
    {
      "cell_type": "code",
      "source": [
        "print(\"SWT % is\",String2[376:379])"
      ],
      "metadata": {
        "colab": {
          "base_uri": "https://localhost:8080/"
        },
        "id": "XoUboSm1Oq5f",
        "outputId": "14448c1e-7a44-442f-84ce-1c2f99b84def"
      },
      "execution_count": null,
      "outputs": [
        {
          "output_type": "stream",
          "name": "stdout",
          "text": [
            "SWT % is 95%\n"
          ]
        }
      ]
    },
    {
      "cell_type": "markdown",
      "source": [
        "Task5"
      ],
      "metadata": {
        "id": "VgbjxQfOQyHk"
      }
    },
    {
      "cell_type": "code",
      "source": [
        "string3 = \"Straightness (full length) 1 in every 20 pipe >= every 4 hr 0.15% pipe length\""
      ],
      "metadata": {
        "id": "M4bxcmLTPWiz"
      },
      "execution_count": null,
      "outputs": []
    },
    {
      "cell_type": "code",
      "source": [
        "ps  = re.compile(r'\\d.\\d\\d.').finditer(string3)"
      ],
      "metadata": {
        "id": "wdSmiIj9P_0G"
      },
      "execution_count": null,
      "outputs": []
    },
    {
      "cell_type": "code",
      "source": [
        "for p in ps:\n",
        "  print(p)"
      ],
      "metadata": {
        "colab": {
          "base_uri": "https://localhost:8080/"
        },
        "id": "kkT5KLxfQG--",
        "outputId": "92887403-e1ac-4eb4-e2ee-d6212c1b8cd3"
      },
      "execution_count": null,
      "outputs": [
        {
          "output_type": "stream",
          "name": "stdout",
          "text": [
            "<re.Match object; span=(60, 65), match='0.15%'>\n"
          ]
        }
      ]
    },
    {
      "cell_type": "code",
      "source": [
        "print(\"The straightness of full pipe\",string3[60:65])"
      ],
      "metadata": {
        "colab": {
          "base_uri": "https://localhost:8080/"
        },
        "id": "NVyzai_LQOSd",
        "outputId": "63ce9e0d-906c-4159-f5f1-dc9811f35d89"
      },
      "execution_count": null,
      "outputs": [
        {
          "output_type": "stream",
          "name": "stdout",
          "text": [
            "The straightness of full pipe 0.15%\n"
          ]
        }
      ]
    },
    {
      "cell_type": "code",
      "source": [
        ""
      ],
      "metadata": {
        "id": "8WvmTWEeQlDA"
      },
      "execution_count": null,
      "outputs": []
    }
  ]
}