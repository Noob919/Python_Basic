{
  "nbformat": 4,
  "nbformat_minor": 0,
  "metadata": {
    "colab": {
      "name": "sentiment_analysis_using_ktrain.ipynb",
      "provenance": [],
      "mount_file_id": "1XjJ6ry6X8G71RYVTiKh3G4Cnzh3I1C2y",
      "authorship_tag": "ABX9TyOuqTLD5Uka14ZY+eENfGPL",
      "include_colab_link": true
    },
    "kernelspec": {
      "name": "python3",
      "display_name": "Python 3"
    },
    "language_info": {
      "name": "python"
    },
    "accelerator": "GPU"
  },
  "cells": [
    {
      "cell_type": "markdown",
      "metadata": {
        "id": "view-in-github",
        "colab_type": "text"
      },
      "source": [
        "<a href=\"https://colab.research.google.com/github/Noob919/Python_Basic/blob/main/sentiment_analysis_using_ktrain.ipynb\" target=\"_parent\"><img src=\"https://colab.research.google.com/assets/colab-badge.svg\" alt=\"Open In Colab\"/></a>"
      ]
    },
    {
      "cell_type": "code",
      "source": [
        "!pip install ktrain"
      ],
      "metadata": {
        "id": "XeFd5DiPVZJI"
      },
      "execution_count": null,
      "outputs": []
    },
    {
      "cell_type": "code",
      "execution_count": 3,
      "metadata": {
        "id": "r8OtzeyKUeoS"
      },
      "outputs": [],
      "source": [
        "import numpy as np\n",
        "import pandas as pd\n",
        "import matplotlib.pyplot as plt\n",
        "import tensorflow as tf\n",
        "from ktrain import text\n"
      ]
    },
    {
      "cell_type": "code",
      "source": [
        "test_df  = pd.read_csv(\"/content/drive/MyDrive/kaggle/yelp_review_polarity_csv/test.csv\")\n",
        "train_df = pd.read_csv(\"/content/drive/MyDrive/kaggle/yelp_review_polarity_csv/train.csv\")"
      ],
      "metadata": {
        "id": "ZG35a1v-VYOo"
      },
      "execution_count": 4,
      "outputs": []
    },
    {
      "cell_type": "code",
      "source": [
        "test_df.columns = ['Rating', 'Review']\n",
        "train_df.columns = ['Rating', 'Review']"
      ],
      "metadata": {
        "id": "Q7zqrj43WHOM"
      },
      "execution_count": 5,
      "outputs": []
    },
    {
      "cell_type": "code",
      "source": [
        "train_df['Rating'] = train_df['Rating'].replace(2,'pos')\n",
        "test_df['Rating'] = test_df['Rating'].replace(2,'pos')"
      ],
      "metadata": {
        "id": "plOK708PazNY"
      },
      "execution_count": 21,
      "outputs": []
    },
    {
      "cell_type": "code",
      "source": [
        "train_df['Rating'] = train_df['Rating'].replace(1,'neg')\n",
        "test_df['Rating'] = test_df['Rating'].replace(1,'neg')"
      ],
      "metadata": {
        "id": "Ldp4xmLIdRx7"
      },
      "execution_count": 22,
      "outputs": []
    },
    {
      "cell_type": "code",
      "source": [
        "train_df = train_df[:1000]\n",
        "test_df  = test_df[:400]"
      ],
      "metadata": {
        "id": "64WqTkorWtX-"
      },
      "execution_count": 6,
      "outputs": []
    },
    {
      "cell_type": "code",
      "source": [
        "(X_train, y_train),(X_test, y_test),preprocess = text.texts_from_df(train_df = train_df, \n",
        "                                                                    text_column = 'Review', \n",
        "                                                                    label_columns  = ['Rating'],\n",
        "                                                                    val_df = test_df, \n",
        "                                                                    maxlen = 400, \n",
        "                                                                    preprocess_mode='bert')"
      ],
      "metadata": {
        "id": "KLkgVP_qWf07"
      },
      "execution_count": null,
      "outputs": []
    },
    {
      "cell_type": "code",
      "source": [
        "model = text.text_classifier('bert', (X_train, y_train) , preproc=preprocess)"
      ],
      "metadata": {
        "colab": {
          "base_uri": "https://localhost:8080/"
        },
        "id": "NP0Ye1TcYPRO",
        "outputId": "a48c9a4a-b12e-4b50-e1d6-a372b00f8e79"
      },
      "execution_count": 28,
      "outputs": [
        {
          "output_type": "stream",
          "name": "stdout",
          "text": [
            "Is Multi-Label? False\n",
            "maxlen is 400\n",
            "done.\n"
          ]
        }
      ]
    },
    {
      "cell_type": "code",
      "source": [
        "import ktrain"
      ],
      "metadata": {
        "id": "zxX9W7O-egN6"
      },
      "execution_count": 30,
      "outputs": []
    },
    {
      "cell_type": "code",
      "source": [
        "learner = ktrain.get_learner(model, \n",
        "                             train_data=(X_train, y_train), \n",
        "                             val_data=(X_test, y_test), \n",
        "                             batch_size=6)"
      ],
      "metadata": {
        "id": "pyoHJRfTeIGU"
      },
      "execution_count": 34,
      "outputs": []
    },
    {
      "cell_type": "code",
      "source": [
        "learner.fit_onecycle(2e-5, 1)"
      ],
      "metadata": {
        "colab": {
          "base_uri": "https://localhost:8080/"
        },
        "id": "geGmw93webah",
        "outputId": "a86e4425-6742-49ab-d9f2-6b55a040b4bd"
      },
      "execution_count": 35,
      "outputs": [
        {
          "output_type": "stream",
          "name": "stdout",
          "text": [
            "\n",
            "\n",
            "begin training using onecycle policy with max lr of 2e-05...\n",
            "167/167 [==============================] - 294s 2s/step - loss: 0.4493 - accuracy: 0.7750 - val_loss: 0.1637 - val_accuracy: 0.9225\n"
          ]
        },
        {
          "output_type": "execute_result",
          "data": {
            "text/plain": [
              "<keras.callbacks.History at 0x7febf51e1150>"
            ]
          },
          "metadata": {},
          "execution_count": 35
        }
      ]
    },
    {
      "cell_type": "code",
      "source": [
        "learner.fit_onecycle(1e-5, 1)"
      ],
      "metadata": {
        "colab": {
          "base_uri": "https://localhost:8080/"
        },
        "id": "EBNzrBYCetvh",
        "outputId": "22e89888-50b5-486c-eb9d-5d2075e201bc"
      },
      "execution_count": 36,
      "outputs": [
        {
          "output_type": "stream",
          "name": "stdout",
          "text": [
            "\n",
            "\n",
            "begin training using onecycle policy with max lr of 1e-05...\n",
            "167/167 [==============================] - 289s 2s/step - loss: 0.1468 - accuracy: 0.9500 - val_loss: 0.1238 - val_accuracy: 0.9600\n"
          ]
        },
        {
          "output_type": "execute_result",
          "data": {
            "text/plain": [
              "<keras.callbacks.History at 0x7febfcd55fd0>"
            ]
          },
          "metadata": {},
          "execution_count": 36
        }
      ]
    },
    {
      "cell_type": "code",
      "source": [
        ""
      ],
      "metadata": {
        "id": "8E3vRPi3g5Yw"
      },
      "execution_count": null,
      "outputs": []
    }
  ]
}