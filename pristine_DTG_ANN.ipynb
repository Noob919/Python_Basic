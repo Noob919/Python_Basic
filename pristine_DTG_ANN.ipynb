{
  "nbformat": 4,
  "nbformat_minor": 0,
  "metadata": {
    "colab": {
      "provenance": [],
      "authorship_tag": "ABX9TyMEKgO622QBJZSTahNKf7uq",
      "include_colab_link": true
    },
    "kernelspec": {
      "name": "python3",
      "display_name": "Python 3"
    },
    "language_info": {
      "name": "python"
    }
  },
  "cells": [
    {
      "cell_type": "markdown",
      "metadata": {
        "id": "view-in-github",
        "colab_type": "text"
      },
      "source": [
        "<a href=\"https://colab.research.google.com/github/Noob919/Python_Basic/blob/main/pristine_DTG_ANN.ipynb\" target=\"_parent\"><img src=\"https://colab.research.google.com/assets/colab-badge.svg\" alt=\"Open In Colab\"/></a>"
      ]
    },
    {
      "cell_type": "code",
      "execution_count": null,
      "metadata": {
        "id": "IqxwIbK7s2ES"
      },
      "outputs": [],
      "source": [
        "import numpy as np\n",
        "import pandas as pd\n",
        "from sklearn.preprocessing import Normalizer\n",
        "from sklearn.metrics import r2_score \n",
        "from sklearn.metrics import mean_squared_error, mean_absolute_error\n",
        "import math\n",
        "import tensorflow as tf\n",
        "from tensorflow import keras\n",
        "from keras import layers\n",
        "from keras.layers import Dense\n",
        "from keras import Sequential\n",
        "import matplotlib.pyplot as plt\n",
        "import seaborn as sns\n",
        "from tensorflow.keras.utils import plot_model"
      ]
    },
    {
      "cell_type": "code",
      "source": [
        "df =  pd.read_csv(\"/content/PRISTINE PET MP.csv\")\n",
        "df.drop(0, inplace=True)\n",
        "df.rename(columns={'Unnamed: 3':\"Weight loss\", 'Unnamed: 4':\"DTG\",'Unnamed: 5': \"label\"}, errors=\"raise\",inplace =  True)\n",
        "df_na = df.dropna()\n",
        "df_na.tail(5)"
      ],
      "metadata": {
        "colab": {
          "base_uri": "https://localhost:8080/",
          "height": 206
        },
        "id": "MKemkh0Htmag",
        "outputId": "b68b7869-2b4e-48ac-a416-fc1ebc415f0f"
      },
      "execution_count": null,
      "outputs": [
        {
          "output_type": "execute_result",
          "data": {
            "text/plain": [
              "             time     tem heating rate  Weight loss       DTG       label\n",
              "4050  67.48333333  967.66  14.33924426    56.454816 -0.013943  Validation\n",
              "4051         67.5  967.85  14.33851852    56.454816 -0.013939    Training\n",
              "4052  67.51666667  967.97  14.33675636    56.454816 -0.013936    Training\n",
              "4053  67.53333333   968.2  14.33662389    56.454816 -0.013933    Training\n",
              "4054        67.55  968.41  14.33619541    56.454816 -0.013929    Training"
            ],
            "text/html": [
              "\n",
              "  <div id=\"df-f8b0b220-78bf-443f-ab39-2c8e0f7c6af6\">\n",
              "    <div class=\"colab-df-container\">\n",
              "      <div>\n",
              "<style scoped>\n",
              "    .dataframe tbody tr th:only-of-type {\n",
              "        vertical-align: middle;\n",
              "    }\n",
              "\n",
              "    .dataframe tbody tr th {\n",
              "        vertical-align: top;\n",
              "    }\n",
              "\n",
              "    .dataframe thead th {\n",
              "        text-align: right;\n",
              "    }\n",
              "</style>\n",
              "<table border=\"1\" class=\"dataframe\">\n",
              "  <thead>\n",
              "    <tr style=\"text-align: right;\">\n",
              "      <th></th>\n",
              "      <th>time</th>\n",
              "      <th>tem</th>\n",
              "      <th>heating rate</th>\n",
              "      <th>Weight loss</th>\n",
              "      <th>DTG</th>\n",
              "      <th>label</th>\n",
              "    </tr>\n",
              "  </thead>\n",
              "  <tbody>\n",
              "    <tr>\n",
              "      <th>4050</th>\n",
              "      <td>67.48333333</td>\n",
              "      <td>967.66</td>\n",
              "      <td>14.33924426</td>\n",
              "      <td>56.454816</td>\n",
              "      <td>-0.013943</td>\n",
              "      <td>Validation</td>\n",
              "    </tr>\n",
              "    <tr>\n",
              "      <th>4051</th>\n",
              "      <td>67.5</td>\n",
              "      <td>967.85</td>\n",
              "      <td>14.33851852</td>\n",
              "      <td>56.454816</td>\n",
              "      <td>-0.013939</td>\n",
              "      <td>Training</td>\n",
              "    </tr>\n",
              "    <tr>\n",
              "      <th>4052</th>\n",
              "      <td>67.51666667</td>\n",
              "      <td>967.97</td>\n",
              "      <td>14.33675636</td>\n",
              "      <td>56.454816</td>\n",
              "      <td>-0.013936</td>\n",
              "      <td>Training</td>\n",
              "    </tr>\n",
              "    <tr>\n",
              "      <th>4053</th>\n",
              "      <td>67.53333333</td>\n",
              "      <td>968.2</td>\n",
              "      <td>14.33662389</td>\n",
              "      <td>56.454816</td>\n",
              "      <td>-0.013933</td>\n",
              "      <td>Training</td>\n",
              "    </tr>\n",
              "    <tr>\n",
              "      <th>4054</th>\n",
              "      <td>67.55</td>\n",
              "      <td>968.41</td>\n",
              "      <td>14.33619541</td>\n",
              "      <td>56.454816</td>\n",
              "      <td>-0.013929</td>\n",
              "      <td>Training</td>\n",
              "    </tr>\n",
              "  </tbody>\n",
              "</table>\n",
              "</div>\n",
              "      <button class=\"colab-df-convert\" onclick=\"convertToInteractive('df-f8b0b220-78bf-443f-ab39-2c8e0f7c6af6')\"\n",
              "              title=\"Convert this dataframe to an interactive table.\"\n",
              "              style=\"display:none;\">\n",
              "        \n",
              "  <svg xmlns=\"http://www.w3.org/2000/svg\" height=\"24px\"viewBox=\"0 0 24 24\"\n",
              "       width=\"24px\">\n",
              "    <path d=\"M0 0h24v24H0V0z\" fill=\"none\"/>\n",
              "    <path d=\"M18.56 5.44l.94 2.06.94-2.06 2.06-.94-2.06-.94-.94-2.06-.94 2.06-2.06.94zm-11 1L8.5 8.5l.94-2.06 2.06-.94-2.06-.94L8.5 2.5l-.94 2.06-2.06.94zm10 10l.94 2.06.94-2.06 2.06-.94-2.06-.94-.94-2.06-.94 2.06-2.06.94z\"/><path d=\"M17.41 7.96l-1.37-1.37c-.4-.4-.92-.59-1.43-.59-.52 0-1.04.2-1.43.59L10.3 9.45l-7.72 7.72c-.78.78-.78 2.05 0 2.83L4 21.41c.39.39.9.59 1.41.59.51 0 1.02-.2 1.41-.59l7.78-7.78 2.81-2.81c.8-.78.8-2.07 0-2.86zM5.41 20L4 18.59l7.72-7.72 1.47 1.35L5.41 20z\"/>\n",
              "  </svg>\n",
              "      </button>\n",
              "      \n",
              "  <style>\n",
              "    .colab-df-container {\n",
              "      display:flex;\n",
              "      flex-wrap:wrap;\n",
              "      gap: 12px;\n",
              "    }\n",
              "\n",
              "    .colab-df-convert {\n",
              "      background-color: #E8F0FE;\n",
              "      border: none;\n",
              "      border-radius: 50%;\n",
              "      cursor: pointer;\n",
              "      display: none;\n",
              "      fill: #1967D2;\n",
              "      height: 32px;\n",
              "      padding: 0 0 0 0;\n",
              "      width: 32px;\n",
              "    }\n",
              "\n",
              "    .colab-df-convert:hover {\n",
              "      background-color: #E2EBFA;\n",
              "      box-shadow: 0px 1px 2px rgba(60, 64, 67, 0.3), 0px 1px 3px 1px rgba(60, 64, 67, 0.15);\n",
              "      fill: #174EA6;\n",
              "    }\n",
              "\n",
              "    [theme=dark] .colab-df-convert {\n",
              "      background-color: #3B4455;\n",
              "      fill: #D2E3FC;\n",
              "    }\n",
              "\n",
              "    [theme=dark] .colab-df-convert:hover {\n",
              "      background-color: #434B5C;\n",
              "      box-shadow: 0px 1px 3px 1px rgba(0, 0, 0, 0.15);\n",
              "      filter: drop-shadow(0px 1px 2px rgba(0, 0, 0, 0.3));\n",
              "      fill: #FFFFFF;\n",
              "    }\n",
              "  </style>\n",
              "\n",
              "      <script>\n",
              "        const buttonEl =\n",
              "          document.querySelector('#df-f8b0b220-78bf-443f-ab39-2c8e0f7c6af6 button.colab-df-convert');\n",
              "        buttonEl.style.display =\n",
              "          google.colab.kernel.accessAllowed ? 'block' : 'none';\n",
              "\n",
              "        async function convertToInteractive(key) {\n",
              "          const element = document.querySelector('#df-f8b0b220-78bf-443f-ab39-2c8e0f7c6af6');\n",
              "          const dataTable =\n",
              "            await google.colab.kernel.invokeFunction('convertToInteractive',\n",
              "                                                     [key], {});\n",
              "          if (!dataTable) return;\n",
              "\n",
              "          const docLinkHtml = 'Like what you see? Visit the ' +\n",
              "            '<a target=\"_blank\" href=https://colab.research.google.com/notebooks/data_table.ipynb>data table notebook</a>'\n",
              "            + ' to learn more about interactive tables.';\n",
              "          element.innerHTML = '';\n",
              "          dataTable['output_type'] = 'display_data';\n",
              "          await google.colab.output.renderOutput(dataTable, element);\n",
              "          const docLink = document.createElement('div');\n",
              "          docLink.innerHTML = docLinkHtml;\n",
              "          element.appendChild(docLink);\n",
              "        }\n",
              "      </script>\n",
              "    </div>\n",
              "  </div>\n",
              "  "
            ]
          },
          "metadata": {},
          "execution_count": 3
        }
      ]
    },
    {
      "cell_type": "code",
      "source": [
        "df_res =  df_na[['time', 'tem', 'heating rate', 'DTG']]\n",
        "df_res.tail(3)\n",
        "\n",
        "label = df_na['label']\n",
        "label = label.reset_index()\n",
        "def root_series(df):\n",
        "  df_sq = df*df\n",
        "  df_sum = df_sq.sum(axis=1)\n",
        "  root =  pd.Series(data  = df_sum)\n",
        "  root = pd.DataFrame(np.power(root, 0.5), columns = ['Root']) \n",
        "  return root\n",
        "\n",
        "def transformation(DataFrame):\n",
        "  scaler  = Normalizer()\n",
        "  transform_df = scaler.fit_transform(DataFrame)\n",
        "  return transform_df\n",
        "\n",
        "transform_df = transformation(df_res)\n",
        "transform_df = pd.DataFrame(transform_df)\n",
        "transform_df.columns = ['time', 'tem', 'heating rate', 'DTG']\n",
        "transform_df\n",
        "dataframe = pd.concat([transform_df,label],axis =1)\n",
        "dataframe\n",
        "df_training = dataframe.loc[dataframe['label'] == \"Training\"]\n",
        "X =  df_training[['time', 'tem', 'heating rate']]\n",
        "y = df_training['DTG']"
      ],
      "metadata": {
        "id": "-4mU6Rhes3p5"
      },
      "execution_count": null,
      "outputs": []
    },
    {
      "cell_type": "code",
      "source": [
        "model = keras.Sequential(\n",
        "    [\n",
        "        layers.Dense(3, activation=\"relu\"),\n",
        "        layers.Dense(5, activation=\"relu\"),\n",
        "        layers.Dense(12, activation=\"sigmoid\"),\n",
        "        layers.Dense(1),\n",
        "    ]\n",
        ") \n",
        "model.compile(loss='mse', optimizer='adam', metrics=[tf.keras.metrics.RootMeanSquaredError()])\n",
        "model.fit(X, y, epochs=50, batch_size=10, verbose=1, validation_split=0.4) "
      ],
      "metadata": {
        "colab": {
          "base_uri": "https://localhost:8080/"
        },
        "id": "mR5Ph4ortZSj",
        "outputId": "c28f0fc7-07c4-478b-e788-d95ab9e0f31a"
      },
      "execution_count": null,
      "outputs": [
        {
          "output_type": "stream",
          "name": "stdout",
          "text": [
            "Epoch 1/50\n",
            "195/195 [==============================] - 2s 5ms/step - loss: 0.0070 - root_mean_squared_error: 0.0835 - val_loss: 7.7858e-06 - val_root_mean_squared_error: 0.0028\n",
            "Epoch 2/50\n",
            "195/195 [==============================] - 1s 4ms/step - loss: 4.2496e-05 - root_mean_squared_error: 0.0065 - val_loss: 5.3755e-06 - val_root_mean_squared_error: 0.0023\n",
            "Epoch 3/50\n",
            "195/195 [==============================] - 1s 3ms/step - loss: 5.3145e-06 - root_mean_squared_error: 0.0023 - val_loss: 7.6071e-07 - val_root_mean_squared_error: 8.7219e-04\n",
            "Epoch 4/50\n",
            "195/195 [==============================] - 1s 3ms/step - loss: 1.5117e-06 - root_mean_squared_error: 0.0012 - val_loss: 1.1469e-06 - val_root_mean_squared_error: 0.0011\n",
            "Epoch 5/50\n",
            "195/195 [==============================] - 1s 3ms/step - loss: 1.3280e-06 - root_mean_squared_error: 0.0012 - val_loss: 7.7660e-07 - val_root_mean_squared_error: 8.8125e-04\n",
            "Epoch 6/50\n",
            "195/195 [==============================] - 1s 3ms/step - loss: 1.2907e-06 - root_mean_squared_error: 0.0011 - val_loss: 1.4220e-06 - val_root_mean_squared_error: 0.0012\n",
            "Epoch 7/50\n",
            "195/195 [==============================] - 1s 3ms/step - loss: 1.2848e-06 - root_mean_squared_error: 0.0011 - val_loss: 3.2148e-07 - val_root_mean_squared_error: 5.6699e-04\n",
            "Epoch 8/50\n",
            "195/195 [==============================] - 1s 3ms/step - loss: 1.2357e-06 - root_mean_squared_error: 0.0011 - val_loss: 8.2735e-07 - val_root_mean_squared_error: 9.0959e-04\n",
            "Epoch 9/50\n",
            "195/195 [==============================] - 1s 3ms/step - loss: 1.1957e-06 - root_mean_squared_error: 0.0011 - val_loss: 1.9244e-06 - val_root_mean_squared_error: 0.0014\n",
            "Epoch 10/50\n",
            "195/195 [==============================] - 1s 3ms/step - loss: 1.2353e-06 - root_mean_squared_error: 0.0011 - val_loss: 1.0630e-06 - val_root_mean_squared_error: 0.0010\n",
            "Epoch 11/50\n",
            "195/195 [==============================] - 1s 3ms/step - loss: 1.1487e-06 - root_mean_squared_error: 0.0011 - val_loss: 5.0974e-07 - val_root_mean_squared_error: 7.1396e-04\n",
            "Epoch 12/50\n",
            "195/195 [==============================] - 1s 3ms/step - loss: 1.1066e-06 - root_mean_squared_error: 0.0011 - val_loss: 8.0968e-07 - val_root_mean_squared_error: 8.9982e-04\n",
            "Epoch 13/50\n",
            "195/195 [==============================] - 1s 3ms/step - loss: 1.0636e-06 - root_mean_squared_error: 0.0010 - val_loss: 1.0680e-06 - val_root_mean_squared_error: 0.0010\n",
            "Epoch 14/50\n",
            "195/195 [==============================] - 1s 3ms/step - loss: 9.6979e-07 - root_mean_squared_error: 9.8478e-04 - val_loss: 4.0141e-07 - val_root_mean_squared_error: 6.3357e-04\n",
            "Epoch 15/50\n",
            "195/195 [==============================] - 1s 3ms/step - loss: 1.0305e-06 - root_mean_squared_error: 0.0010 - val_loss: 6.4870e-07 - val_root_mean_squared_error: 8.0542e-04\n",
            "Epoch 16/50\n",
            "195/195 [==============================] - 1s 3ms/step - loss: 9.9265e-07 - root_mean_squared_error: 9.9632e-04 - val_loss: 1.1897e-06 - val_root_mean_squared_error: 0.0011\n",
            "Epoch 17/50\n",
            "195/195 [==============================] - 1s 3ms/step - loss: 8.7525e-07 - root_mean_squared_error: 9.3555e-04 - val_loss: 1.2724e-06 - val_root_mean_squared_error: 0.0011\n",
            "Epoch 18/50\n",
            "195/195 [==============================] - 1s 3ms/step - loss: 8.7984e-07 - root_mean_squared_error: 9.3800e-04 - val_loss: 1.8234e-06 - val_root_mean_squared_error: 0.0014\n",
            "Epoch 19/50\n",
            "195/195 [==============================] - 1s 4ms/step - loss: 7.7515e-07 - root_mean_squared_error: 8.8043e-04 - val_loss: 1.2124e-06 - val_root_mean_squared_error: 0.0011\n",
            "Epoch 20/50\n",
            "195/195 [==============================] - 1s 5ms/step - loss: 7.0360e-07 - root_mean_squared_error: 8.3881e-04 - val_loss: 1.4055e-07 - val_root_mean_squared_error: 3.7490e-04\n",
            "Epoch 21/50\n",
            "195/195 [==============================] - 1s 4ms/step - loss: 6.5207e-07 - root_mean_squared_error: 8.0751e-04 - val_loss: 6.0025e-07 - val_root_mean_squared_error: 7.7476e-04\n",
            "Epoch 22/50\n",
            "195/195 [==============================] - 1s 3ms/step - loss: 5.8509e-07 - root_mean_squared_error: 7.6491e-04 - val_loss: 5.3079e-07 - val_root_mean_squared_error: 7.2855e-04\n",
            "Epoch 23/50\n",
            "195/195 [==============================] - 1s 3ms/step - loss: 5.8420e-07 - root_mean_squared_error: 7.6433e-04 - val_loss: 4.0597e-08 - val_root_mean_squared_error: 2.0149e-04\n",
            "Epoch 24/50\n",
            "195/195 [==============================] - 1s 3ms/step - loss: 5.0892e-07 - root_mean_squared_error: 7.1339e-04 - val_loss: 1.1408e-07 - val_root_mean_squared_error: 3.3776e-04\n",
            "Epoch 25/50\n",
            "195/195 [==============================] - 1s 3ms/step - loss: 4.2794e-07 - root_mean_squared_error: 6.5417e-04 - val_loss: 2.8907e-07 - val_root_mean_squared_error: 5.3765e-04\n",
            "Epoch 26/50\n",
            "195/195 [==============================] - 1s 3ms/step - loss: 4.2087e-07 - root_mean_squared_error: 6.4875e-04 - val_loss: 6.8874e-07 - val_root_mean_squared_error: 8.2990e-04\n",
            "Epoch 27/50\n",
            "195/195 [==============================] - 1s 4ms/step - loss: 3.7475e-07 - root_mean_squared_error: 6.1217e-04 - val_loss: 4.5869e-08 - val_root_mean_squared_error: 2.1417e-04\n",
            "Epoch 28/50\n",
            "195/195 [==============================] - 1s 4ms/step - loss: 3.1137e-07 - root_mean_squared_error: 5.5800e-04 - val_loss: 2.1287e-07 - val_root_mean_squared_error: 4.6138e-04\n",
            "Epoch 29/50\n",
            "195/195 [==============================] - 1s 4ms/step - loss: 2.7097e-07 - root_mean_squared_error: 5.2055e-04 - val_loss: 6.0108e-07 - val_root_mean_squared_error: 7.7529e-04\n",
            "Epoch 30/50\n",
            "195/195 [==============================] - 1s 3ms/step - loss: 2.2858e-07 - root_mean_squared_error: 4.7810e-04 - val_loss: 6.8535e-07 - val_root_mean_squared_error: 8.2786e-04\n",
            "Epoch 31/50\n",
            "195/195 [==============================] - 1s 3ms/step - loss: 1.8128e-07 - root_mean_squared_error: 4.2577e-04 - val_loss: 6.5184e-09 - val_root_mean_squared_error: 8.0737e-05\n",
            "Epoch 32/50\n",
            "195/195 [==============================] - 1s 3ms/step - loss: 1.7231e-07 - root_mean_squared_error: 4.1510e-04 - val_loss: 1.2048e-07 - val_root_mean_squared_error: 3.4710e-04\n",
            "Epoch 33/50\n",
            "195/195 [==============================] - 1s 3ms/step - loss: 1.6438e-07 - root_mean_squared_error: 4.0543e-04 - val_loss: 3.6251e-08 - val_root_mean_squared_error: 1.9040e-04\n",
            "Epoch 34/50\n",
            "195/195 [==============================] - 1s 3ms/step - loss: 1.0804e-07 - root_mean_squared_error: 3.2869e-04 - val_loss: 2.5948e-07 - val_root_mean_squared_error: 5.0939e-04\n",
            "Epoch 35/50\n",
            "195/195 [==============================] - 0s 3ms/step - loss: 8.9420e-08 - root_mean_squared_error: 2.9903e-04 - val_loss: 1.6813e-08 - val_root_mean_squared_error: 1.2966e-04\n",
            "Epoch 36/50\n",
            "195/195 [==============================] - 1s 3ms/step - loss: 9.7615e-08 - root_mean_squared_error: 3.1243e-04 - val_loss: 1.8324e-07 - val_root_mean_squared_error: 4.2807e-04\n",
            "Epoch 37/50\n",
            "195/195 [==============================] - 1s 3ms/step - loss: 6.3152e-08 - root_mean_squared_error: 2.5130e-04 - val_loss: 1.2040e-08 - val_root_mean_squared_error: 1.0973e-04\n",
            "Epoch 38/50\n",
            "195/195 [==============================] - 1s 4ms/step - loss: 5.7273e-08 - root_mean_squared_error: 2.3932e-04 - val_loss: 3.5585e-08 - val_root_mean_squared_error: 1.8864e-04\n",
            "Epoch 39/50\n",
            "195/195 [==============================] - 1s 4ms/step - loss: 3.8455e-08 - root_mean_squared_error: 1.9610e-04 - val_loss: 5.7067e-08 - val_root_mean_squared_error: 2.3889e-04\n",
            "Epoch 40/50\n",
            "195/195 [==============================] - 1s 4ms/step - loss: 2.6972e-08 - root_mean_squared_error: 1.6423e-04 - val_loss: 7.1599e-08 - val_root_mean_squared_error: 2.6758e-04\n",
            "Epoch 41/50\n",
            "195/195 [==============================] - 1s 3ms/step - loss: 2.8755e-08 - root_mean_squared_error: 1.6957e-04 - val_loss: 1.5076e-07 - val_root_mean_squared_error: 3.8828e-04\n",
            "Epoch 42/50\n",
            "195/195 [==============================] - 1s 3ms/step - loss: 2.4851e-08 - root_mean_squared_error: 1.5764e-04 - val_loss: 1.1109e-07 - val_root_mean_squared_error: 3.3330e-04\n",
            "Epoch 43/50\n",
            "195/195 [==============================] - 1s 3ms/step - loss: 1.8641e-08 - root_mean_squared_error: 1.3653e-04 - val_loss: 7.5714e-08 - val_root_mean_squared_error: 2.7516e-04\n",
            "Epoch 44/50\n",
            "195/195 [==============================] - 1s 3ms/step - loss: 1.6970e-08 - root_mean_squared_error: 1.3027e-04 - val_loss: 7.4965e-09 - val_root_mean_squared_error: 8.6582e-05\n",
            "Epoch 45/50\n",
            "195/195 [==============================] - 1s 3ms/step - loss: 1.3362e-08 - root_mean_squared_error: 1.1559e-04 - val_loss: 2.4778e-08 - val_root_mean_squared_error: 1.5741e-04\n",
            "Epoch 46/50\n",
            "195/195 [==============================] - 1s 3ms/step - loss: 1.0759e-08 - root_mean_squared_error: 1.0373e-04 - val_loss: 2.4699e-08 - val_root_mean_squared_error: 1.5716e-04\n",
            "Epoch 47/50\n",
            "195/195 [==============================] - 1s 3ms/step - loss: 1.2224e-08 - root_mean_squared_error: 1.1056e-04 - val_loss: 7.2401e-08 - val_root_mean_squared_error: 2.6907e-04\n",
            "Epoch 48/50\n",
            "195/195 [==============================] - 1s 3ms/step - loss: 1.7221e-08 - root_mean_squared_error: 1.3123e-04 - val_loss: 9.2650e-08 - val_root_mean_squared_error: 3.0439e-04\n",
            "Epoch 49/50\n",
            "195/195 [==============================] - 1s 3ms/step - loss: 1.0167e-08 - root_mean_squared_error: 1.0083e-04 - val_loss: 1.0929e-07 - val_root_mean_squared_error: 3.3059e-04\n",
            "Epoch 50/50\n",
            "195/195 [==============================] - 1s 4ms/step - loss: 8.7825e-09 - root_mean_squared_error: 9.3715e-05 - val_loss: 4.2491e-08 - val_root_mean_squared_error: 2.0613e-04\n"
          ]
        },
        {
          "output_type": "execute_result",
          "data": {
            "text/plain": [
              "<keras.callbacks.History at 0x7fe9104fbeb0>"
            ]
          },
          "metadata": {},
          "execution_count": 5
        }
      ]
    },
    {
      "cell_type": "code",
      "source": [
        "model.summary()"
      ],
      "metadata": {
        "colab": {
          "base_uri": "https://localhost:8080/"
        },
        "id": "f6TwU4_cuKDY",
        "outputId": "d3222028-8824-42b6-a3b0-5f1fe5956277"
      },
      "execution_count": null,
      "outputs": [
        {
          "output_type": "stream",
          "name": "stdout",
          "text": [
            "Model: \"sequential\"\n",
            "_________________________________________________________________\n",
            " Layer (type)                Output Shape              Param #   \n",
            "=================================================================\n",
            " dense (Dense)               (None, 3)                 12        \n",
            "                                                                 \n",
            " dense_1 (Dense)             (None, 5)                 20        \n",
            "                                                                 \n",
            " dense_2 (Dense)             (None, 12)                72        \n",
            "                                                                 \n",
            " dense_3 (Dense)             (None, 1)                 13        \n",
            "                                                                 \n",
            "=================================================================\n",
            "Total params: 117\n",
            "Trainable params: 117\n",
            "Non-trainable params: 0\n",
            "_________________________________________________________________\n"
          ]
        }
      ]
    },
    {
      "cell_type": "code",
      "source": [
        "met_df  = pd.DataFrame(model.history.history)\n",
        "plt.plot(met_df['loss'], label = 'loss')\n",
        "plt.plot(met_df['val_loss'], label = 'val_loss')\n",
        "plt.xlabel('Epochs')\n",
        "plt.ylabel('loss')\n",
        "plt.legend()"
      ],
      "metadata": {
        "colab": {
          "base_uri": "https://localhost:8080/",
          "height": 467
        },
        "id": "B1gXtQWCuR8p",
        "outputId": "01e9a15f-c6a3-41ec-f5fd-f7cb78d5de8a"
      },
      "execution_count": null,
      "outputs": [
        {
          "output_type": "execute_result",
          "data": {
            "text/plain": [
              "<matplotlib.legend.Legend at 0x7fe904519970>"
            ]
          },
          "metadata": {},
          "execution_count": 7
        },
        {
          "output_type": "display_data",
          "data": {
            "text/plain": [
              "<Figure size 640x480 with 1 Axes>"
            ],
            "image/png": "[encoded data removed]"
          },
          "metadata": {}
        }
      ]
    },
    {
      "cell_type": "code",
      "source": [
        "plt.plot(met_df['root_mean_squared_error'], label = 'RMSE for training')\n",
        "plt.plot(met_df['val_root_mean_squared_error'], label = 'val_RMSE')\n",
        "plt.xlabel('Epochs')\n",
        "plt.ylabel('RSME')\n",
        "plt.legend()"
      ],
      "metadata": {
        "colab": {
          "base_uri": "https://localhost:8080/",
          "height": 467
        },
        "id": "B54Xq5S1uZU1",
        "outputId": "3bfba2ae-2aa5-4657-a1d4-66e3684d129b"
      },
      "execution_count": null,
      "outputs": [
        {
          "output_type": "execute_result",
          "data": {
            "text/plain": [
              "<matplotlib.legend.Legend at 0x7fe9076c7eb0>"
            ]
          },
          "metadata": {},
          "execution_count": 8
        },
        {
          "output_type": "display_data",
          "data": {
            "text/plain": [
              "<Figure size 640x480 with 1 Axes>"
            ],
            "image/png": "[encoded data removed]"
          },
          "metadata": {}
        }
      ]
    },
    {
      "cell_type": "code",
      "source": [
        "df_val = dataframe.loc[dataframe['label'] == \"Validation\"]\n",
        "X_val =  df_val[['time', 'tem', 'heating rate']]\n",
        "y_val = df_val['DTG']\n",
        "\n",
        "X_val_df = pd.DataFrame(X_val)\n",
        "X_val_df = X_val_df.reset_index(drop = True)\n",
        "predictions = model.predict(X_val) \n",
        "prediction = pd.DataFrame(predictions)\n",
        "y_val_df =  pd.DataFrame(y_val)\n",
        "y_val_df = y_val_df.reset_index(drop= True)\n",
        "final_df = pd.concat([X_val_df,prediction,y_val_df],axis =1)\n",
        "final_df.rename(columns={0: \"preditions\"}, errors=\"raise\",inplace =  True)\n",
        "final_df"
      ],
      "metadata": {
        "id": "zYmuEDusubqP",
        "colab": {
          "base_uri": "https://localhost:8080/",
          "height": 670
        },
        "outputId": "16899c02-412e-483e-8e77-b0fce1d4002b"
      },
      "execution_count": null,
      "outputs": [
        {
          "output_type": "stream",
          "name": "stdout",
          "text": [
            "13/13 [==============================] - 0s 1ms/step\n"
          ]
        },
        {
          "output_type": "execute_result",
          "data": {
            "text/plain": [
              "         time       tem  heating rate  preditions           DTG\n",
              "0    0.000004  0.033315      0.999445   -0.000181  9.051003e-08\n",
              "1    0.000313  0.301892      0.953342   -0.000159  8.167232e-07\n",
              "2    0.000523  0.384615      0.923077   -0.000109  0.000000e+00\n",
              "3    0.000817  0.470588      0.882353   -0.000058  1.267761e-06\n",
              "4    0.001354  0.582518      0.812816   -0.000013  1.563194e-06\n",
              "..        ...       ...           ...         ...           ...\n",
              "400  0.069270  0.997486      0.014936    0.000266 -8.583528e-07\n",
              "401  0.069312  0.997484      0.014910    0.000266 -8.573788e-07\n",
              "402  0.069412  0.997477      0.014858    0.000267 -6.673923e-05\n",
              "403  0.069495  0.997472      0.014818    0.000267 -1.441698e-05\n",
              "404  0.069562  0.997468      0.014781    0.000267 -1.437241e-05\n",
              "\n",
              "[405 rows x 5 columns]"
            ],
            "text/html": [
              "\n",
              "  <div id=\"df-cc87bee3-1113-401f-9acf-1e1e14158b92\">\n",
              "    <div class=\"colab-df-container\">\n",
              "      <div>\n",
              "<style scoped>\n",
              "    .dataframe tbody tr th:only-of-type {\n",
              "        vertical-align: middle;\n",
              "    }\n",
              "\n",
              "    .dataframe tbody tr th {\n",
              "        vertical-align: top;\n",
              "    }\n",
              "\n",
              "    .dataframe thead th {\n",
              "        text-align: right;\n",
              "    }\n",
              "</style>\n",
              "<table border=\"1\" class=\"dataframe\">\n",
              "  <thead>\n",
              "    <tr style=\"text-align: right;\">\n",
              "      <th></th>\n",
              "      <th>time</th>\n",
              "      <th>tem</th>\n",
              "      <th>heating rate</th>\n",
              "      <th>preditions</th>\n",
              "      <th>DTG</th>\n",
              "    </tr>\n",
              "  </thead>\n",
              "  <tbody>\n",
              "    <tr>\n",
              "      <th>0</th>\n",
              "      <td>0.000004</td>\n",
              "      <td>0.033315</td>\n",
              "      <td>0.999445</td>\n",
              "      <td>-0.000181</td>\n",
              "      <td>9.051003e-08</td>\n",
              "    </tr>\n",
              "    <tr>\n",
              "      <th>1</th>\n",
              "      <td>0.000313</td>\n",
              "      <td>0.301892</td>\n",
              "      <td>0.953342</td>\n",
              "      <td>-0.000159</td>\n",
              "      <td>8.167232e-07</td>\n",
              "    </tr>\n",
              "    <tr>\n",
              "      <th>2</th>\n",
              "      <td>0.000523</td>\n",
              "      <td>0.384615</td>\n",
              "      <td>0.923077</td>\n",
              "      <td>-0.000109</td>\n",
              "      <td>0.000000e+00</td>\n",
              "    </tr>\n",
              "    <tr>\n",
              "      <th>3</th>\n",
              "      <td>0.000817</td>\n",
              "      <td>0.470588</td>\n",
              "      <td>0.882353</td>\n",
              "      <td>-0.000058</td>\n",
              "      <td>1.267761e-06</td>\n",
              "    </tr>\n",
              "    <tr>\n",
              "      <th>4</th>\n",
              "      <td>0.001354</td>\n",
              "      <td>0.582518</td>\n",
              "      <td>0.812816</td>\n",
              "      <td>-0.000013</td>\n",
              "      <td>1.563194e-06</td>\n",
              "    </tr>\n",
              "    <tr>\n",
              "      <th>...</th>\n",
              "      <td>...</td>\n",
              "      <td>...</td>\n",
              "      <td>...</td>\n",
              "      <td>...</td>\n",
              "      <td>...</td>\n",
              "    </tr>\n",
              "    <tr>\n",
              "      <th>400</th>\n",
              "      <td>0.069270</td>\n",
              "      <td>0.997486</td>\n",
              "      <td>0.014936</td>\n",
              "      <td>0.000266</td>\n",
              "      <td>-8.583528e-07</td>\n",
              "    </tr>\n",
              "    <tr>\n",
              "      <th>401</th>\n",
              "      <td>0.069312</td>\n",
              "      <td>0.997484</td>\n",
              "      <td>0.014910</td>\n",
              "      <td>0.000266</td>\n",
              "      <td>-8.573788e-07</td>\n",
              "    </tr>\n",
              "    <tr>\n",
              "      <th>402</th>\n",
              "      <td>0.069412</td>\n",
              "      <td>0.997477</td>\n",
              "      <td>0.014858</td>\n",
              "      <td>0.000267</td>\n",
              "      <td>-6.673923e-05</td>\n",
              "    </tr>\n",
              "    <tr>\n",
              "      <th>403</th>\n",
              "      <td>0.069495</td>\n",
              "      <td>0.997472</td>\n",
              "      <td>0.014818</td>\n",
              "      <td>0.000267</td>\n",
              "      <td>-1.441698e-05</td>\n",
              "    </tr>\n",
              "    <tr>\n",
              "      <th>404</th>\n",
              "      <td>0.069562</td>\n",
              "      <td>0.997468</td>\n",
              "      <td>0.014781</td>\n",
              "      <td>0.000267</td>\n",
              "      <td>-1.437241e-05</td>\n",
              "    </tr>\n",
              "  </tbody>\n",
              "</table>\n",
              "<p>405 rows × 5 columns</p>\n",
              "</div>\n",
              "      <button class=\"colab-df-convert\" onclick=\"convertToInteractive('df-cc87bee3-1113-401f-9acf-1e1e14158b92')\"\n",
              "              title=\"Convert this dataframe to an interactive table.\"\n",
              "              style=\"display:none;\">\n",
              "        \n",
              "  <svg xmlns=\"http://www.w3.org/2000/svg\" height=\"24px\"viewBox=\"0 0 24 24\"\n",
              "       width=\"24px\">\n",
              "    <path d=\"M0 0h24v24H0V0z\" fill=\"none\"/>\n",
              "    <path d=\"M18.56 5.44l.94 2.06.94-2.06 2.06-.94-2.06-.94-.94-2.06-.94 2.06-2.06.94zm-11 1L8.5 8.5l.94-2.06 2.06-.94-2.06-.94L8.5 2.5l-.94 2.06-2.06.94zm10 10l.94 2.06.94-2.06 2.06-.94-2.06-.94-.94-2.06-.94 2.06-2.06.94z\"/><path d=\"M17.41 7.96l-1.37-1.37c-.4-.4-.92-.59-1.43-.59-.52 0-1.04.2-1.43.59L10.3 9.45l-7.72 7.72c-.78.78-.78 2.05 0 2.83L4 21.41c.39.39.9.59 1.41.59.51 0 1.02-.2 1.41-.59l7.78-7.78 2.81-2.81c.8-.78.8-2.07 0-2.86zM5.41 20L4 18.59l7.72-7.72 1.47 1.35L5.41 20z\"/>\n",
              "  </svg>\n",
              "      </button>\n",
              "      \n",
              "  <style>\n",
              "    .colab-df-container {\n",
              "      display:flex;\n",
              "      flex-wrap:wrap;\n",
              "      gap: 12px;\n",
              "    }\n",
              "\n",
              "    .colab-df-convert {\n",
              "      background-color: #E8F0FE;\n",
              "      border: none;\n",
              "      border-radius: 50%;\n",
              "      cursor: pointer;\n",
              "      display: none;\n",
              "      fill: #1967D2;\n",
              "      height: 32px;\n",
              "      padding: 0 0 0 0;\n",
              "      width: 32px;\n",
              "    }\n",
              "\n",
              "    .colab-df-convert:hover {\n",
              "      background-color: #E2EBFA;\n",
              "      box-shadow: 0px 1px 2px rgba(60, 64, 67, 0.3), 0px 1px 3px 1px rgba(60, 64, 67, 0.15);\n",
              "      fill: #174EA6;\n",
              "    }\n",
              "\n",
              "    [theme=dark] .colab-df-convert {\n",
              "      background-color: #3B4455;\n",
              "      fill: #D2E3FC;\n",
              "    }\n",
              "\n",
              "    [theme=dark] .colab-df-convert:hover {\n",
              "      background-color: #434B5C;\n",
              "      box-shadow: 0px 1px 3px 1px rgba(0, 0, 0, 0.15);\n",
              "      filter: drop-shadow(0px 1px 2px rgba(0, 0, 0, 0.3));\n",
              "      fill: #FFFFFF;\n",
              "    }\n",
              "  </style>\n",
              "\n",
              "      <script>\n",
              "        const buttonEl =\n",
              "          document.querySelector('#df-cc87bee3-1113-401f-9acf-1e1e14158b92 button.colab-df-convert');\n",
              "        buttonEl.style.display =\n",
              "          google.colab.kernel.accessAllowed ? 'block' : 'none';\n",
              "\n",
              "        async function convertToInteractive(key) {\n",
              "          const element = document.querySelector('#df-cc87bee3-1113-401f-9acf-1e1e14158b92');\n",
              "          const dataTable =\n",
              "            await google.colab.kernel.invokeFunction('convertToInteractive',\n",
              "                                                     [key], {});\n",
              "          if (!dataTable) return;\n",
              "\n",
              "          const docLinkHtml = 'Like what you see? Visit the ' +\n",
              "            '<a target=\"_blank\" href=https://colab.research.google.com/notebooks/data_table.ipynb>data table notebook</a>'\n",
              "            + ' to learn more about interactive tables.';\n",
              "          element.innerHTML = '';\n",
              "          dataTable['output_type'] = 'display_data';\n",
              "          await google.colab.output.renderOutput(dataTable, element);\n",
              "          const docLink = document.createElement('div');\n",
              "          docLink.innerHTML = docLinkHtml;\n",
              "          element.appendChild(docLink);\n",
              "        }\n",
              "      </script>\n",
              "    </div>\n",
              "  </div>\n",
              "  "
            ]
          },
          "metadata": {},
          "execution_count": 9
        }
      ]
    },
    {
      "cell_type": "code",
      "source": [
        "print('MSE',mean_squared_error(y_val,predictions))\n",
        "print('RMSE',math.sqrt(mean_squared_error(y_val, predictions)))\n",
        "print('MAE',mean_absolute_error(y_val,predictions))\n",
        "print('R2_Score',r2_score(y_val,predictions))"
      ],
      "metadata": {
        "colab": {
          "base_uri": "https://localhost:8080/"
        },
        "id": "y-PfrjOcudr8",
        "outputId": "d3ba0bc4-0576-41f8-8202-5f13cb53c1bd"
      },
      "execution_count": null,
      "outputs": [
        {
          "output_type": "stream",
          "name": "stdout",
          "text": [
            "MSE 1.7457248234804404e-08\n",
            "RMSE 0.00013212588026122817\n",
            "MAE 8.834987627634434e-05\n",
            "R2_Score -13.0537977197004\n"
          ]
        }
      ]
    },
    {
      "cell_type": "code",
      "source": [
        "x = final_df['DTG']\n",
        "y = final_df['preditions']\n",
        "a,b = np.polyfit(x,y,1)\n",
        "sns.scatterplot(data=final_df, x='DTG', y='preditions', color='orange', label='Predicted Values')\n",
        "plt.plot(x, a*x+b, color='red', label = 'Best Fit') \n",
        "plt.title('Best fit for ANN on Validation Set')\n",
        "plt.legend()"
      ],
      "metadata": {
        "colab": {
          "base_uri": "https://localhost:8080/",
          "height": 490
        },
        "id": "6uQR6sEcufvx",
        "outputId": "047ed0ed-6972-45a4-df46-9376d5852bce"
      },
      "execution_count": null,
      "outputs": [
        {
          "output_type": "execute_result",
          "data": {
            "text/plain": [
              "<matplotlib.legend.Legend at 0x7f8dbcd181c0>"
            ]
          },
          "metadata": {},
          "execution_count": 20
        },
        {
          "output_type": "display_data",
          "data": {
            "text/plain": [
              "<Figure size 640x480 with 1 Axes>"
            ],
            "image/png": "[encoded data removed]"
          },
          "metadata": {}
        }
      ]
    },
    {
      "cell_type": "code",
      "source": [
        "df_test = dataframe.loc[dataframe['label'] == \"Test\"]\n",
        "X_test =  df_test[['time', 'tem', 'heating rate']]\n",
        "y_test = df_test['DTG']\n",
        "\n",
        "predictions = model.predict(X_test)  \n",
        "prediction_test  = pd.DataFrame(predictions)\n",
        "print('MSE',mean_squared_error(y_test,predictions))\n",
        "print('RMSE',math.sqrt(mean_squared_error(y_test, predictions)))\n",
        "print('MAE',mean_absolute_error(y_test,predictions))\n",
        "print('R2_Score',r2_score(y_test,predictions))"
      ],
      "metadata": {
        "colab": {
          "base_uri": "https://localhost:8080/"
        },
        "id": "EJSQ4STwuiCK",
        "outputId": "1ace1ee7-c430-45b0-c5c2-887952282e53"
      },
      "execution_count": null,
      "outputs": [
        {
          "output_type": "stream",
          "name": "stdout",
          "text": [
            "13/13 [==============================] - 0s 2ms/step\n",
            "MSE 1.7403706425135098e-08\n",
            "RMSE 0.00013192310800286315\n",
            "MAE 8.848245955881933e-05\n",
            "R2_Score -12.969456845055339\n"
          ]
        }
      ]
    },
    {
      "cell_type": "code",
      "source": [
        "X_test_df = pd.DataFrame(X_test)\n",
        "X_test_df = X_test_df.reset_index(drop = True)\n",
        "prediction = pd.DataFrame(predictions)\n",
        "y_test_df =  pd.DataFrame(y_test)\n",
        "y_test_df = y_test_df.reset_index(drop= True)\n",
        "final_df_test = pd.concat([X_test_df,prediction,y_test_df],axis =1)\n",
        "final_df_test.rename(columns={0: \"predictions_test\"}, errors=\"raise\",inplace =  True)\n",
        "final_df_test"
      ],
      "metadata": {
        "colab": {
          "base_uri": "https://localhost:8080/",
          "height": 651
        },
        "id": "C1h19US-ukB0",
        "outputId": "f04bafc2-70a6-43de-f373-f909f7d3d753"
      },
      "execution_count": null,
      "outputs": [
        {
          "output_type": "execute_result",
          "data": {
            "text/plain": [
              "         time       tem  heating rate  predictions_test           DTG\n",
              "0    0.000015  0.066519      0.997785         -0.000177  1.807016e-07\n",
              "1    0.000225  0.257663      0.966235         -0.000162  6.977295e-07\n",
              "2    0.000485  0.371391      0.928477         -0.000119  0.000000e+00\n",
              "3    0.001150  0.544988      0.838443         -0.000025  1.464476e-06\n",
              "4    0.001458  0.599999      0.799999         -0.000008  1.608853e-06\n",
              "..        ...       ...           ...               ...           ...\n",
              "401  0.069281  0.997485      0.014929          0.000266 -8.580666e-07\n",
              "402  0.069359  0.997481      0.014884          0.000266 -8.564689e-07\n",
              "403  0.069380  0.997479      0.014873          0.000266 -8.560859e-07\n",
              "404  0.069510  0.997471      0.014810          0.000267 -1.440581e-05\n",
              "405  0.069552  0.997469      0.014788          0.000267 -1.437177e-05\n",
              "\n",
              "[406 rows x 5 columns]"
            ],
            "text/html": [
              "\n",
              "  <div id=\"df-c0d7311d-80ce-4cda-9d53-c006b17a9dad\">\n",
              "    <div class=\"colab-df-container\">\n",
              "      <div>\n",
              "<style scoped>\n",
              "    .dataframe tbody tr th:only-of-type {\n",
              "        vertical-align: middle;\n",
              "    }\n",
              "\n",
              "    .dataframe tbody tr th {\n",
              "        vertical-align: top;\n",
              "    }\n",
              "\n",
              "    .dataframe thead th {\n",
              "        text-align: right;\n",
              "    }\n",
              "</style>\n",
              "<table border=\"1\" class=\"dataframe\">\n",
              "  <thead>\n",
              "    <tr style=\"text-align: right;\">\n",
              "      <th></th>\n",
              "      <th>time</th>\n",
              "      <th>tem</th>\n",
              "      <th>heating rate</th>\n",
              "      <th>predictions_test</th>\n",
              "      <th>DTG</th>\n",
              "    </tr>\n",
              "  </thead>\n",
              "  <tbody>\n",
              "    <tr>\n",
              "      <th>0</th>\n",
              "      <td>0.000015</td>\n",
              "      <td>0.066519</td>\n",
              "      <td>0.997785</td>\n",
              "      <td>-0.000177</td>\n",
              "      <td>1.807016e-07</td>\n",
              "    </tr>\n",
              "    <tr>\n",
              "      <th>1</th>\n",
              "      <td>0.000225</td>\n",
              "      <td>0.257663</td>\n",
              "      <td>0.966235</td>\n",
              "      <td>-0.000162</td>\n",
              "      <td>6.977295e-07</td>\n",
              "    </tr>\n",
              "    <tr>\n",
              "      <th>2</th>\n",
              "      <td>0.000485</td>\n",
              "      <td>0.371391</td>\n",
              "      <td>0.928477</td>\n",
              "      <td>-0.000119</td>\n",
              "      <td>0.000000e+00</td>\n",
              "    </tr>\n",
              "    <tr>\n",
              "      <th>3</th>\n",
              "      <td>0.001150</td>\n",
              "      <td>0.544988</td>\n",
              "      <td>0.838443</td>\n",
              "      <td>-0.000025</td>\n",
              "      <td>1.464476e-06</td>\n",
              "    </tr>\n",
              "    <tr>\n",
              "      <th>4</th>\n",
              "      <td>0.001458</td>\n",
              "      <td>0.599999</td>\n",
              "      <td>0.799999</td>\n",
              "      <td>-0.000008</td>\n",
              "      <td>1.608853e-06</td>\n",
              "    </tr>\n",
              "    <tr>\n",
              "      <th>...</th>\n",
              "      <td>...</td>\n",
              "      <td>...</td>\n",
              "      <td>...</td>\n",
              "      <td>...</td>\n",
              "      <td>...</td>\n",
              "    </tr>\n",
              "    <tr>\n",
              "      <th>401</th>\n",
              "      <td>0.069281</td>\n",
              "      <td>0.997485</td>\n",
              "      <td>0.014929</td>\n",
              "      <td>0.000266</td>\n",
              "      <td>-8.580666e-07</td>\n",
              "    </tr>\n",
              "    <tr>\n",
              "      <th>402</th>\n",
              "      <td>0.069359</td>\n",
              "      <td>0.997481</td>\n",
              "      <td>0.014884</td>\n",
              "      <td>0.000266</td>\n",
              "      <td>-8.564689e-07</td>\n",
              "    </tr>\n",
              "    <tr>\n",
              "      <th>403</th>\n",
              "      <td>0.069380</td>\n",
              "      <td>0.997479</td>\n",
              "      <td>0.014873</td>\n",
              "      <td>0.000266</td>\n",
              "      <td>-8.560859e-07</td>\n",
              "    </tr>\n",
              "    <tr>\n",
              "      <th>404</th>\n",
              "      <td>0.069510</td>\n",
              "      <td>0.997471</td>\n",
              "      <td>0.014810</td>\n",
              "      <td>0.000267</td>\n",
              "      <td>-1.440581e-05</td>\n",
              "    </tr>\n",
              "    <tr>\n",
              "      <th>405</th>\n",
              "      <td>0.069552</td>\n",
              "      <td>0.997469</td>\n",
              "      <td>0.014788</td>\n",
              "      <td>0.000267</td>\n",
              "      <td>-1.437177e-05</td>\n",
              "    </tr>\n",
              "  </tbody>\n",
              "</table>\n",
              "<p>406 rows × 5 columns</p>\n",
              "</div>\n",
              "      <button class=\"colab-df-convert\" onclick=\"convertToInteractive('df-c0d7311d-80ce-4cda-9d53-c006b17a9dad')\"\n",
              "              title=\"Convert this dataframe to an interactive table.\"\n",
              "              style=\"display:none;\">\n",
              "        \n",
              "  <svg xmlns=\"http://www.w3.org/2000/svg\" height=\"24px\"viewBox=\"0 0 24 24\"\n",
              "       width=\"24px\">\n",
              "    <path d=\"M0 0h24v24H0V0z\" fill=\"none\"/>\n",
              "    <path d=\"M18.56 5.44l.94 2.06.94-2.06 2.06-.94-2.06-.94-.94-2.06-.94 2.06-2.06.94zm-11 1L8.5 8.5l.94-2.06 2.06-.94-2.06-.94L8.5 2.5l-.94 2.06-2.06.94zm10 10l.94 2.06.94-2.06 2.06-.94-2.06-.94-.94-2.06-.94 2.06-2.06.94z\"/><path d=\"M17.41 7.96l-1.37-1.37c-.4-.4-.92-.59-1.43-.59-.52 0-1.04.2-1.43.59L10.3 9.45l-7.72 7.72c-.78.78-.78 2.05 0 2.83L4 21.41c.39.39.9.59 1.41.59.51 0 1.02-.2 1.41-.59l7.78-7.78 2.81-2.81c.8-.78.8-2.07 0-2.86zM5.41 20L4 18.59l7.72-7.72 1.47 1.35L5.41 20z\"/>\n",
              "  </svg>\n",
              "      </button>\n",
              "      \n",
              "  <style>\n",
              "    .colab-df-container {\n",
              "      display:flex;\n",
              "      flex-wrap:wrap;\n",
              "      gap: 12px;\n",
              "    }\n",
              "\n",
              "    .colab-df-convert {\n",
              "      background-color: #E8F0FE;\n",
              "      border: none;\n",
              "      border-radius: 50%;\n",
              "      cursor: pointer;\n",
              "      display: none;\n",
              "      fill: #1967D2;\n",
              "      height: 32px;\n",
              "      padding: 0 0 0 0;\n",
              "      width: 32px;\n",
              "    }\n",
              "\n",
              "    .colab-df-convert:hover {\n",
              "      background-color: #E2EBFA;\n",
              "      box-shadow: 0px 1px 2px rgba(60, 64, 67, 0.3), 0px 1px 3px 1px rgba(60, 64, 67, 0.15);\n",
              "      fill: #174EA6;\n",
              "    }\n",
              "\n",
              "    [theme=dark] .colab-df-convert {\n",
              "      background-color: #3B4455;\n",
              "      fill: #D2E3FC;\n",
              "    }\n",
              "\n",
              "    [theme=dark] .colab-df-convert:hover {\n",
              "      background-color: #434B5C;\n",
              "      box-shadow: 0px 1px 3px 1px rgba(0, 0, 0, 0.15);\n",
              "      filter: drop-shadow(0px 1px 2px rgba(0, 0, 0, 0.3));\n",
              "      fill: #FFFFFF;\n",
              "    }\n",
              "  </style>\n",
              "\n",
              "      <script>\n",
              "        const buttonEl =\n",
              "          document.querySelector('#df-c0d7311d-80ce-4cda-9d53-c006b17a9dad button.colab-df-convert');\n",
              "        buttonEl.style.display =\n",
              "          google.colab.kernel.accessAllowed ? 'block' : 'none';\n",
              "\n",
              "        async function convertToInteractive(key) {\n",
              "          const element = document.querySelector('#df-c0d7311d-80ce-4cda-9d53-c006b17a9dad');\n",
              "          const dataTable =\n",
              "            await google.colab.kernel.invokeFunction('convertToInteractive',\n",
              "                                                     [key], {});\n",
              "          if (!dataTable) return;\n",
              "\n",
              "          const docLinkHtml = 'Like what you see? Visit the ' +\n",
              "            '<a target=\"_blank\" href=https://colab.research.google.com/notebooks/data_table.ipynb>data table notebook</a>'\n",
              "            + ' to learn more about interactive tables.';\n",
              "          element.innerHTML = '';\n",
              "          dataTable['output_type'] = 'display_data';\n",
              "          await google.colab.output.renderOutput(dataTable, element);\n",
              "          const docLink = document.createElement('div');\n",
              "          docLink.innerHTML = docLinkHtml;\n",
              "          element.appendChild(docLink);\n",
              "        }\n",
              "      </script>\n",
              "    </div>\n",
              "  </div>\n",
              "  "
            ]
          },
          "metadata": {},
          "execution_count": 12
        }
      ]
    },
    {
      "cell_type": "code",
      "source": [
        "x = final_df_test['DTG']\n",
        "y = final_df_test['predictions_test']\n",
        "a,b = np.polyfit(x,y,1)\n",
        "sns.scatterplot(data=final_df_test, x='DTG', y='predictions_test', color='purple', label='Predicted Values')\n",
        "plt.plot(x, a*x+b, color='black', label = 'Best Fit') \n",
        "plt.title('Best fit for ANN on Test Set')\n",
        "plt.legend()"
      ],
      "metadata": {
        "colab": {
          "base_uri": "https://localhost:8080/",
          "height": 490
        },
        "id": "8mIqT2tjul1B",
        "outputId": "448e8547-f920-4ccc-aa9d-f7caf5fa8ca9"
      },
      "execution_count": null,
      "outputs": [
        {
          "output_type": "execute_result",
          "data": {
            "text/plain": [
              "<matplotlib.legend.Legend at 0x7f8dbc7ca2b0>"
            ]
          },
          "metadata": {},
          "execution_count": 25
        },
        {
          "output_type": "display_data",
          "data": {
            "text/plain": [
              "<Figure size 640x480 with 1 Axes>"
            ],
            "image/png": "[encoded data removed]"
          },
          "metadata": {}
        }
      ]
    },
    {
      "cell_type": "code",
      "source": [
        "plot_model(model, to_file='/content/model.jpg',show_shapes=True)"
      ],
      "metadata": {
        "colab": {
          "base_uri": "https://localhost:8080/",
          "height": 533
        },
        "id": "aC8j76zjusNS",
        "outputId": "01978196-0294-487a-aa87-b116f7aa3fab"
      },
      "execution_count": null,
      "outputs": [
        {
          "output_type": "execute_result",
          "data": {
            "image/jpeg": "[encoded data removed]",
            "text/plain": [
              "<IPython.core.display.Image object>"
            ]
          },
          "metadata": {},
          "execution_count": 26
        }
      ]
    },
    {
      "cell_type": "code",
      "source": [],
      "metadata": {
        "id": "sSqJmzpvveD2"
      },
      "execution_count": null,
      "outputs": []
    }
  ]
}