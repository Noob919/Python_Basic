{
  "nbformat": 4,
  "nbformat_minor": 0,
  "metadata": {
    "colab": {
      "provenance": [],
      "authorship_tag": "ABX9TyNM2P+1C+MT8ChYP7A0ZGkd",
      "include_colab_link": true
    },
    "kernelspec": {
      "name": "python3",
      "display_name": "Python 3"
    },
    "language_info": {
      "name": "python"
    }
  },
  "cells": [
    {
      "cell_type": "markdown",
      "metadata": {
        "id": "view-in-github",
        "colab_type": "text"
      },
      "source": [
        "<a href=\"https://colab.research.google.com/github/Noob919/Python_Basic/blob/main/Aged_pet_DTG_ANN.ipynb\" target=\"_parent\"><img src=\"https://colab.research.google.com/assets/colab-badge.svg\" alt=\"Open In Colab\"/></a>"
      ]
    },
    {
      "cell_type": "code",
      "execution_count": 18,
      "metadata": {
        "id": "GziK4u5igDsW"
      },
      "outputs": [],
      "source": [
        "import numpy as np\n",
        "import pandas as pd\n",
        "from sklearn.preprocessing import Normalizer\n",
        "from sklearn.metrics import r2_score \n",
        "from sklearn.metrics import mean_squared_error, mean_absolute_error\n",
        "import math\n",
        "import tensorflow as tf\n",
        "from tensorflow import keras\n",
        "from keras import layers\n",
        "from keras.layers import Dense\n",
        "from keras import Sequential\n",
        "import matplotlib.pyplot as plt\n",
        "import seaborn as sns"
      ]
    },
    {
      "cell_type": "code",
      "source": [
        "df =  pd.read_csv(\"/content/AGED PET MP.csv\")"
      ],
      "metadata": {
        "id": "uZS_78QngFIk"
      },
      "execution_count": 32,
      "outputs": []
    },
    {
      "cell_type": "code",
      "source": [
        "df.columns\n",
        "df.rename(columns={'Unnamed: 5': \"label\"}, errors=\"raise\",inplace =  True)\n",
        "label = df['label']\n",
        "df_res =  df[['time', 'tem', 'heating rate', 'DTG']]\n",
        "def root_series(df):\n",
        "  df_sq = df*df\n",
        "  df_sum = df_sq.sum(axis=1)\n",
        "  root =  pd.Series(data  = df_sum)\n",
        "  root = pd.DataFrame(np.power(root, 0.5), columns = ['Root']) \n",
        "  return root\n",
        "\n",
        "def transformation(DataFrame):\n",
        "  scaler  = Normalizer()\n",
        "  transform_df = scaler.fit_transform(DataFrame)\n",
        "  return transform_df\n",
        "\n",
        "transform_df = transformation(df_res)\n",
        "transform_df = pd.DataFrame(transform_df)\n",
        "transform_df = pd.concat([transform_df,root_series(df_res)],axis=1)\n",
        "transform_df.columns = ['time', 'tem', 'heating rate', 'DTG','Root']\n",
        "dataframe = pd.concat([transform_df,label],axis =1)\n",
        "dataframe"
      ],
      "metadata": {
        "colab": {
          "base_uri": "https://localhost:8080/",
          "height": 423
        },
        "id": "HrPRfbDngUxT",
        "outputId": "72d3630f-cd11-4424-c5c9-815abcd8c97d"
      },
      "execution_count": 33,
      "outputs": [
        {
          "output_type": "execute_result",
          "data": {
            "text/plain": [
              "              time       tem  heating rate           DTG          Root  \\\n",
              "0     0.000000e+00  1.000000      0.000000  3.980602e-05    311.840000   \n",
              "1     8.906751e-07  0.016664      0.999861  6.633627e-07  18712.398403   \n",
              "2     3.561446e-06  0.033315      0.999445  1.237841e-06   9359.495391   \n",
              "3     8.007957e-06  0.049938      0.998752  1.988073e-06   6243.790134   \n",
              "4     1.422212e-05  0.066519      0.997785  2.648112e-06   4687.532144   \n",
              "...            ...       ...           ...           ...           ...   \n",
              "4049  6.909666e-02  0.997500      0.014781 -1.492915e-05    976.651182   \n",
              "4050  6.910235e-02  0.997500      0.014778 -1.492301e-05    976.811916   \n",
              "4051  6.910734e-02  0.997500      0.014774 -1.491672e-05    976.982627   \n",
              "4052  6.911302e-02  0.997499      0.014770 -1.491058e-05    977.143362   \n",
              "4053  6.911801e-02  0.997499      0.014767 -1.496698e-05    977.314073   \n",
              "\n",
              "         label  \n",
              "0     Training  \n",
              "1     Training  \n",
              "2     Training  \n",
              "3     Training  \n",
              "4     Training  \n",
              "...        ...  \n",
              "4049  Training  \n",
              "4050  Training  \n",
              "4051  Training  \n",
              "4052  Training  \n",
              "4053      Test  \n",
              "\n",
              "[4054 rows x 6 columns]"
            ],
            "text/html": [
              "\n",
              "  <div id=\"df-8192cdd5-974c-4c47-b098-9b3d29454c36\">\n",
              "    <div class=\"colab-df-container\">\n",
              "      <div>\n",
              "<style scoped>\n",
              "    .dataframe tbody tr th:only-of-type {\n",
              "        vertical-align: middle;\n",
              "    }\n",
              "\n",
              "    .dataframe tbody tr th {\n",
              "        vertical-align: top;\n",
              "    }\n",
              "\n",
              "    .dataframe thead th {\n",
              "        text-align: right;\n",
              "    }\n",
              "</style>\n",
              "<table border=\"1\" class=\"dataframe\">\n",
              "  <thead>\n",
              "    <tr style=\"text-align: right;\">\n",
              "      <th></th>\n",
              "      <th>time</th>\n",
              "      <th>tem</th>\n",
              "      <th>heating rate</th>\n",
              "      <th>DTG</th>\n",
              "      <th>Root</th>\n",
              "      <th>label</th>\n",
              "    </tr>\n",
              "  </thead>\n",
              "  <tbody>\n",
              "    <tr>\n",
              "      <th>0</th>\n",
              "      <td>0.000000e+00</td>\n",
              "      <td>1.000000</td>\n",
              "      <td>0.000000</td>\n",
              "      <td>3.980602e-05</td>\n",
              "      <td>311.840000</td>\n",
              "      <td>Training</td>\n",
              "    </tr>\n",
              "    <tr>\n",
              "      <th>1</th>\n",
              "      <td>8.906751e-07</td>\n",
              "      <td>0.016664</td>\n",
              "      <td>0.999861</td>\n",
              "      <td>6.633627e-07</td>\n",
              "      <td>18712.398403</td>\n",
              "      <td>Training</td>\n",
              "    </tr>\n",
              "    <tr>\n",
              "      <th>2</th>\n",
              "      <td>3.561446e-06</td>\n",
              "      <td>0.033315</td>\n",
              "      <td>0.999445</td>\n",
              "      <td>1.237841e-06</td>\n",
              "      <td>9359.495391</td>\n",
              "      <td>Training</td>\n",
              "    </tr>\n",
              "    <tr>\n",
              "      <th>3</th>\n",
              "      <td>8.007957e-06</td>\n",
              "      <td>0.049938</td>\n",
              "      <td>0.998752</td>\n",
              "      <td>1.988073e-06</td>\n",
              "      <td>6243.790134</td>\n",
              "      <td>Training</td>\n",
              "    </tr>\n",
              "    <tr>\n",
              "      <th>4</th>\n",
              "      <td>1.422212e-05</td>\n",
              "      <td>0.066519</td>\n",
              "      <td>0.997785</td>\n",
              "      <td>2.648112e-06</td>\n",
              "      <td>4687.532144</td>\n",
              "      <td>Training</td>\n",
              "    </tr>\n",
              "    <tr>\n",
              "      <th>...</th>\n",
              "      <td>...</td>\n",
              "      <td>...</td>\n",
              "      <td>...</td>\n",
              "      <td>...</td>\n",
              "      <td>...</td>\n",
              "      <td>...</td>\n",
              "    </tr>\n",
              "    <tr>\n",
              "      <th>4049</th>\n",
              "      <td>6.909666e-02</td>\n",
              "      <td>0.997500</td>\n",
              "      <td>0.014781</td>\n",
              "      <td>-1.492915e-05</td>\n",
              "      <td>976.651182</td>\n",
              "      <td>Training</td>\n",
              "    </tr>\n",
              "    <tr>\n",
              "      <th>4050</th>\n",
              "      <td>6.910235e-02</td>\n",
              "      <td>0.997500</td>\n",
              "      <td>0.014778</td>\n",
              "      <td>-1.492301e-05</td>\n",
              "      <td>976.811916</td>\n",
              "      <td>Training</td>\n",
              "    </tr>\n",
              "    <tr>\n",
              "      <th>4051</th>\n",
              "      <td>6.910734e-02</td>\n",
              "      <td>0.997500</td>\n",
              "      <td>0.014774</td>\n",
              "      <td>-1.491672e-05</td>\n",
              "      <td>976.982627</td>\n",
              "      <td>Training</td>\n",
              "    </tr>\n",
              "    <tr>\n",
              "      <th>4052</th>\n",
              "      <td>6.911302e-02</td>\n",
              "      <td>0.997499</td>\n",
              "      <td>0.014770</td>\n",
              "      <td>-1.491058e-05</td>\n",
              "      <td>977.143362</td>\n",
              "      <td>Training</td>\n",
              "    </tr>\n",
              "    <tr>\n",
              "      <th>4053</th>\n",
              "      <td>6.911801e-02</td>\n",
              "      <td>0.997499</td>\n",
              "      <td>0.014767</td>\n",
              "      <td>-1.496698e-05</td>\n",
              "      <td>977.314073</td>\n",
              "      <td>Test</td>\n",
              "    </tr>\n",
              "  </tbody>\n",
              "</table>\n",
              "<p>4054 rows × 6 columns</p>\n",
              "</div>\n",
              "      <button class=\"colab-df-convert\" onclick=\"convertToInteractive('df-8192cdd5-974c-4c47-b098-9b3d29454c36')\"\n",
              "              title=\"Convert this dataframe to an interactive table.\"\n",
              "              style=\"display:none;\">\n",
              "        \n",
              "  <svg xmlns=\"http://www.w3.org/2000/svg\" height=\"24px\"viewBox=\"0 0 24 24\"\n",
              "       width=\"24px\">\n",
              "    <path d=\"M0 0h24v24H0V0z\" fill=\"none\"/>\n",
              "    <path d=\"M18.56 5.44l.94 2.06.94-2.06 2.06-.94-2.06-.94-.94-2.06-.94 2.06-2.06.94zm-11 1L8.5 8.5l.94-2.06 2.06-.94-2.06-.94L8.5 2.5l-.94 2.06-2.06.94zm10 10l.94 2.06.94-2.06 2.06-.94-2.06-.94-.94-2.06-.94 2.06-2.06.94z\"/><path d=\"M17.41 7.96l-1.37-1.37c-.4-.4-.92-.59-1.43-.59-.52 0-1.04.2-1.43.59L10.3 9.45l-7.72 7.72c-.78.78-.78 2.05 0 2.83L4 21.41c.39.39.9.59 1.41.59.51 0 1.02-.2 1.41-.59l7.78-7.78 2.81-2.81c.8-.78.8-2.07 0-2.86zM5.41 20L4 18.59l7.72-7.72 1.47 1.35L5.41 20z\"/>\n",
              "  </svg>\n",
              "      </button>\n",
              "      \n",
              "  <style>\n",
              "    .colab-df-container {\n",
              "      display:flex;\n",
              "      flex-wrap:wrap;\n",
              "      gap: 12px;\n",
              "    }\n",
              "\n",
              "    .colab-df-convert {\n",
              "      background-color: #E8F0FE;\n",
              "      border: none;\n",
              "      border-radius: 50%;\n",
              "      cursor: pointer;\n",
              "      display: none;\n",
              "      fill: #1967D2;\n",
              "      height: 32px;\n",
              "      padding: 0 0 0 0;\n",
              "      width: 32px;\n",
              "    }\n",
              "\n",
              "    .colab-df-convert:hover {\n",
              "      background-color: #E2EBFA;\n",
              "      box-shadow: 0px 1px 2px rgba(60, 64, 67, 0.3), 0px 1px 3px 1px rgba(60, 64, 67, 0.15);\n",
              "      fill: #174EA6;\n",
              "    }\n",
              "\n",
              "    [theme=dark] .colab-df-convert {\n",
              "      background-color: #3B4455;\n",
              "      fill: #D2E3FC;\n",
              "    }\n",
              "\n",
              "    [theme=dark] .colab-df-convert:hover {\n",
              "      background-color: #434B5C;\n",
              "      box-shadow: 0px 1px 3px 1px rgba(0, 0, 0, 0.15);\n",
              "      filter: drop-shadow(0px 1px 2px rgba(0, 0, 0, 0.3));\n",
              "      fill: #FFFFFF;\n",
              "    }\n",
              "  </style>\n",
              "\n",
              "      <script>\n",
              "        const buttonEl =\n",
              "          document.querySelector('#df-8192cdd5-974c-4c47-b098-9b3d29454c36 button.colab-df-convert');\n",
              "        buttonEl.style.display =\n",
              "          google.colab.kernel.accessAllowed ? 'block' : 'none';\n",
              "\n",
              "        async function convertToInteractive(key) {\n",
              "          const element = document.querySelector('#df-8192cdd5-974c-4c47-b098-9b3d29454c36');\n",
              "          const dataTable =\n",
              "            await google.colab.kernel.invokeFunction('convertToInteractive',\n",
              "                                                     [key], {});\n",
              "          if (!dataTable) return;\n",
              "\n",
              "          const docLinkHtml = 'Like what you see? Visit the ' +\n",
              "            '<a target=\"_blank\" href=https://colab.research.google.com/notebooks/data_table.ipynb>data table notebook</a>'\n",
              "            + ' to learn more about interactive tables.';\n",
              "          element.innerHTML = '';\n",
              "          dataTable['output_type'] = 'display_data';\n",
              "          await google.colab.output.renderOutput(dataTable, element);\n",
              "          const docLink = document.createElement('div');\n",
              "          docLink.innerHTML = docLinkHtml;\n",
              "          element.appendChild(docLink);\n",
              "        }\n",
              "      </script>\n",
              "    </div>\n",
              "  </div>\n",
              "  "
            ]
          },
          "metadata": {},
          "execution_count": 33
        }
      ]
    },
    {
      "cell_type": "code",
      "source": [
        "df_training = dataframe.loc[dataframe['label'] == \"Training\"]\n",
        "X =  df_training[['time', 'tem', 'heating rate']]\n",
        "y = df_training['DTG']\n",
        "Root = df_training['Root']"
      ],
      "metadata": {
        "id": "1wk0318OgrUW"
      },
      "execution_count": 34,
      "outputs": []
    },
    {
      "cell_type": "code",
      "source": [
        "model = keras.Sequential(\n",
        "    [\n",
        "        layers.Dense(3, activation=\"sigmoid\"),\n",
        "        layers.Dense(8, activation=\"sigmoid\"),\n",
        "        layers.Dense(1),\n",
        "    ]\n",
        ") \n",
        "model.compile(loss='mse', optimizer='adam', metrics=[tf.keras.metrics.RootMeanSquaredError()])\n",
        "model.fit(X, y, epochs=50, batch_size=10, verbose=1, validation_split=0.4) "
      ],
      "metadata": {
        "colab": {
          "base_uri": "https://localhost:8080/"
        },
        "id": "TEFJTknXi6Xj",
        "outputId": "b6054778-2336-4ef6-a2b2-855372fd6ded"
      },
      "execution_count": 35,
      "outputs": [
        {
          "output_type": "stream",
          "name": "stdout",
          "text": [
            "Epoch 1/50\n",
            "195/195 [==============================] - 2s 4ms/step - loss: 0.0012 - root_mean_squared_error: 0.0342 - val_loss: 1.5874e-06 - val_root_mean_squared_error: 0.0013\n",
            "Epoch 2/50\n",
            "195/195 [==============================] - 1s 4ms/step - loss: 7.3528e-06 - root_mean_squared_error: 0.0027 - val_loss: 1.2610e-06 - val_root_mean_squared_error: 0.0011\n",
            "Epoch 3/50\n",
            "195/195 [==============================] - 1s 3ms/step - loss: 7.3142e-06 - root_mean_squared_error: 0.0027 - val_loss: 8.1996e-07 - val_root_mean_squared_error: 9.0552e-04\n",
            "Epoch 4/50\n",
            "195/195 [==============================] - 1s 4ms/step - loss: 7.1991e-06 - root_mean_squared_error: 0.0027 - val_loss: 1.4585e-06 - val_root_mean_squared_error: 0.0012\n",
            "Epoch 5/50\n",
            "195/195 [==============================] - 1s 7ms/step - loss: 7.1223e-06 - root_mean_squared_error: 0.0027 - val_loss: 2.4430e-06 - val_root_mean_squared_error: 0.0016\n",
            "Epoch 6/50\n",
            "195/195 [==============================] - 1s 5ms/step - loss: 6.9861e-06 - root_mean_squared_error: 0.0026 - val_loss: 1.9543e-06 - val_root_mean_squared_error: 0.0014\n",
            "Epoch 7/50\n",
            "195/195 [==============================] - 1s 4ms/step - loss: 6.8140e-06 - root_mean_squared_error: 0.0026 - val_loss: 1.2456e-06 - val_root_mean_squared_error: 0.0011\n",
            "Epoch 8/50\n",
            "195/195 [==============================] - 1s 3ms/step - loss: 6.7182e-06 - root_mean_squared_error: 0.0026 - val_loss: 1.2013e-06 - val_root_mean_squared_error: 0.0011\n",
            "Epoch 9/50\n",
            "195/195 [==============================] - 1s 3ms/step - loss: 6.5110e-06 - root_mean_squared_error: 0.0026 - val_loss: 3.6329e-06 - val_root_mean_squared_error: 0.0019\n",
            "Epoch 10/50\n",
            "195/195 [==============================] - 1s 3ms/step - loss: 6.3382e-06 - root_mean_squared_error: 0.0025 - val_loss: 9.8433e-07 - val_root_mean_squared_error: 9.9213e-04\n",
            "Epoch 11/50\n",
            "195/195 [==============================] - 1s 3ms/step - loss: 6.0857e-06 - root_mean_squared_error: 0.0025 - val_loss: 3.0390e-06 - val_root_mean_squared_error: 0.0017\n",
            "Epoch 12/50\n",
            "195/195 [==============================] - 1s 4ms/step - loss: 5.9122e-06 - root_mean_squared_error: 0.0024 - val_loss: 1.1589e-06 - val_root_mean_squared_error: 0.0011\n",
            "Epoch 13/50\n",
            "195/195 [==============================] - 1s 5ms/step - loss: 5.8556e-06 - root_mean_squared_error: 0.0024 - val_loss: 1.3739e-06 - val_root_mean_squared_error: 0.0012\n",
            "Epoch 14/50\n",
            "195/195 [==============================] - 1s 4ms/step - loss: 5.4725e-06 - root_mean_squared_error: 0.0023 - val_loss: 1.0094e-06 - val_root_mean_squared_error: 0.0010\n",
            "Epoch 15/50\n",
            "195/195 [==============================] - 1s 8ms/step - loss: 5.0953e-06 - root_mean_squared_error: 0.0023 - val_loss: 3.7470e-07 - val_root_mean_squared_error: 6.1213e-04\n",
            "Epoch 16/50\n",
            "195/195 [==============================] - 2s 9ms/step - loss: 5.0819e-06 - root_mean_squared_error: 0.0023 - val_loss: 2.4990e-07 - val_root_mean_squared_error: 4.9990e-04\n",
            "Epoch 17/50\n",
            "195/195 [==============================] - 1s 5ms/step - loss: 4.7513e-06 - root_mean_squared_error: 0.0022 - val_loss: 6.4932e-06 - val_root_mean_squared_error: 0.0025\n",
            "Epoch 18/50\n",
            "195/195 [==============================] - 1s 5ms/step - loss: 4.3153e-06 - root_mean_squared_error: 0.0021 - val_loss: 1.9129e-06 - val_root_mean_squared_error: 0.0014\n",
            "Epoch 19/50\n",
            "195/195 [==============================] - 2s 11ms/step - loss: 4.1665e-06 - root_mean_squared_error: 0.0020 - val_loss: 3.2200e-07 - val_root_mean_squared_error: 5.6745e-04\n",
            "Epoch 20/50\n",
            "195/195 [==============================] - 1s 3ms/step - loss: 3.8777e-06 - root_mean_squared_error: 0.0020 - val_loss: 1.9079e-06 - val_root_mean_squared_error: 0.0014\n",
            "Epoch 21/50\n",
            "195/195 [==============================] - 1s 4ms/step - loss: 3.6596e-06 - root_mean_squared_error: 0.0019 - val_loss: 5.0648e-08 - val_root_mean_squared_error: 2.2505e-04\n",
            "Epoch 22/50\n",
            "195/195 [==============================] - 1s 4ms/step - loss: 3.4594e-06 - root_mean_squared_error: 0.0019 - val_loss: 2.1255e-07 - val_root_mean_squared_error: 4.6103e-04\n",
            "Epoch 23/50\n",
            "195/195 [==============================] - 1s 5ms/step - loss: 3.2010e-06 - root_mean_squared_error: 0.0018 - val_loss: 2.3567e-06 - val_root_mean_squared_error: 0.0015\n",
            "Epoch 24/50\n",
            "195/195 [==============================] - 1s 4ms/step - loss: 2.9599e-06 - root_mean_squared_error: 0.0017 - val_loss: 5.2695e-08 - val_root_mean_squared_error: 2.2955e-04\n",
            "Epoch 25/50\n",
            "195/195 [==============================] - 1s 4ms/step - loss: 2.7816e-06 - root_mean_squared_error: 0.0017 - val_loss: 2.5814e-06 - val_root_mean_squared_error: 0.0016\n",
            "Epoch 26/50\n",
            "195/195 [==============================] - 1s 5ms/step - loss: 2.5561e-06 - root_mean_squared_error: 0.0016 - val_loss: 6.8985e-08 - val_root_mean_squared_error: 2.6265e-04\n",
            "Epoch 27/50\n",
            "195/195 [==============================] - 1s 3ms/step - loss: 2.3335e-06 - root_mean_squared_error: 0.0015 - val_loss: 1.4382e-06 - val_root_mean_squared_error: 0.0012\n",
            "Epoch 28/50\n",
            "195/195 [==============================] - 1s 4ms/step - loss: 2.0668e-06 - root_mean_squared_error: 0.0014 - val_loss: 2.1330e-07 - val_root_mean_squared_error: 4.6185e-04\n",
            "Epoch 29/50\n",
            "195/195 [==============================] - 1s 4ms/step - loss: 1.9540e-06 - root_mean_squared_error: 0.0014 - val_loss: 1.6039e-07 - val_root_mean_squared_error: 4.0048e-04\n",
            "Epoch 30/50\n",
            "195/195 [==============================] - 1s 3ms/step - loss: 1.7023e-06 - root_mean_squared_error: 0.0013 - val_loss: 3.5155e-07 - val_root_mean_squared_error: 5.9291e-04\n",
            "Epoch 31/50\n",
            "195/195 [==============================] - 1s 3ms/step - loss: 1.6242e-06 - root_mean_squared_error: 0.0013 - val_loss: 8.5910e-07 - val_root_mean_squared_error: 9.2688e-04\n",
            "Epoch 32/50\n",
            "195/195 [==============================] - 1s 4ms/step - loss: 1.3365e-06 - root_mean_squared_error: 0.0012 - val_loss: 5.5540e-08 - val_root_mean_squared_error: 2.3567e-04\n",
            "Epoch 33/50\n",
            "195/195 [==============================] - 1s 3ms/step - loss: 1.2428e-06 - root_mean_squared_error: 0.0011 - val_loss: 1.8022e-07 - val_root_mean_squared_error: 4.2453e-04\n",
            "Epoch 34/50\n",
            "195/195 [==============================] - 1s 3ms/step - loss: 1.1060e-06 - root_mean_squared_error: 0.0011 - val_loss: 1.1405e-06 - val_root_mean_squared_error: 0.0011\n",
            "Epoch 35/50\n",
            "195/195 [==============================] - 1s 4ms/step - loss: 1.3515e-06 - root_mean_squared_error: 0.0012 - val_loss: 5.4285e-07 - val_root_mean_squared_error: 7.3678e-04\n",
            "Epoch 36/50\n",
            "195/195 [==============================] - 1s 4ms/step - loss: 9.0468e-07 - root_mean_squared_error: 9.5115e-04 - val_loss: 8.0365e-07 - val_root_mean_squared_error: 8.9647e-04\n",
            "Epoch 37/50\n",
            "195/195 [==============================] - 1s 3ms/step - loss: 8.9528e-07 - root_mean_squared_error: 9.4619e-04 - val_loss: 7.7734e-08 - val_root_mean_squared_error: 2.7881e-04\n",
            "Epoch 38/50\n",
            "195/195 [==============================] - 1s 4ms/step - loss: 7.1042e-07 - root_mean_squared_error: 8.4286e-04 - val_loss: 2.1949e-07 - val_root_mean_squared_error: 4.6850e-04\n",
            "Epoch 39/50\n",
            "195/195 [==============================] - 1s 4ms/step - loss: 7.4274e-07 - root_mean_squared_error: 8.6182e-04 - val_loss: 1.8764e-07 - val_root_mean_squared_error: 4.3317e-04\n",
            "Epoch 40/50\n",
            "195/195 [==============================] - 1s 3ms/step - loss: 5.4439e-07 - root_mean_squared_error: 7.3783e-04 - val_loss: 5.4177e-07 - val_root_mean_squared_error: 7.3605e-04\n",
            "Epoch 41/50\n",
            "195/195 [==============================] - 1s 4ms/step - loss: 5.7533e-07 - root_mean_squared_error: 7.5851e-04 - val_loss: 2.8123e-08 - val_root_mean_squared_error: 1.6770e-04\n",
            "Epoch 42/50\n",
            "195/195 [==============================] - 1s 6ms/step - loss: 4.9074e-07 - root_mean_squared_error: 7.0053e-04 - val_loss: 1.3204e-07 - val_root_mean_squared_error: 3.6337e-04\n",
            "Epoch 43/50\n",
            "195/195 [==============================] - 2s 12ms/step - loss: 4.0642e-07 - root_mean_squared_error: 6.3751e-04 - val_loss: 8.9075e-07 - val_root_mean_squared_error: 9.4380e-04\n",
            "Epoch 44/50\n",
            "195/195 [==============================] - 2s 9ms/step - loss: 3.2331e-07 - root_mean_squared_error: 5.6860e-04 - val_loss: 2.7400e-07 - val_root_mean_squared_error: 5.2345e-04\n",
            "Epoch 45/50\n",
            "195/195 [==============================] - 1s 4ms/step - loss: 3.8925e-07 - root_mean_squared_error: 6.2390e-04 - val_loss: 2.4220e-08 - val_root_mean_squared_error: 1.5563e-04\n",
            "Epoch 46/50\n",
            "195/195 [==============================] - 1s 3ms/step - loss: 3.1622e-07 - root_mean_squared_error: 5.6233e-04 - val_loss: 3.3232e-07 - val_root_mean_squared_error: 5.7647e-04\n",
            "Epoch 47/50\n",
            "195/195 [==============================] - 1s 4ms/step - loss: 2.1619e-07 - root_mean_squared_error: 4.6497e-04 - val_loss: 1.7201e-07 - val_root_mean_squared_error: 4.1473e-04\n",
            "Epoch 48/50\n",
            "195/195 [==============================] - 1s 5ms/step - loss: 2.8164e-07 - root_mean_squared_error: 5.3070e-04 - val_loss: 6.3263e-07 - val_root_mean_squared_error: 7.9538e-04\n",
            "Epoch 49/50\n",
            "195/195 [==============================] - 1s 4ms/step - loss: 2.3133e-07 - root_mean_squared_error: 4.8096e-04 - val_loss: 2.6845e-08 - val_root_mean_squared_error: 1.6385e-04\n",
            "Epoch 50/50\n",
            "195/195 [==============================] - 1s 4ms/step - loss: 2.2277e-07 - root_mean_squared_error: 4.7199e-04 - val_loss: 1.5257e-08 - val_root_mean_squared_error: 1.2352e-04\n"
          ]
        },
        {
          "output_type": "execute_result",
          "data": {
            "text/plain": [
              "<keras.callbacks.History at 0x7fde1cb220a0>"
            ]
          },
          "metadata": {},
          "execution_count": 35
        }
      ]
    },
    {
      "cell_type": "code",
      "source": [
        "model.summary()"
      ],
      "metadata": {
        "colab": {
          "base_uri": "https://localhost:8080/"
        },
        "id": "jtseaJ3li-sB",
        "outputId": "60163ff0-e9b8-405d-98ce-3dfca3c72c37"
      },
      "execution_count": 36,
      "outputs": [
        {
          "output_type": "stream",
          "name": "stdout",
          "text": [
            "Model: \"sequential_2\"\n",
            "_________________________________________________________________\n",
            " Layer (type)                Output Shape              Param #   \n",
            "=================================================================\n",
            " dense_6 (Dense)             (None, 3)                 12        \n",
            "                                                                 \n",
            " dense_7 (Dense)             (None, 8)                 32        \n",
            "                                                                 \n",
            " dense_8 (Dense)             (None, 1)                 9         \n",
            "                                                                 \n",
            "=================================================================\n",
            "Total params: 53\n",
            "Trainable params: 53\n",
            "Non-trainable params: 0\n",
            "_________________________________________________________________\n"
          ]
        }
      ]
    },
    {
      "cell_type": "code",
      "source": [
        "met_df  = pd.DataFrame(model.history.history)"
      ],
      "metadata": {
        "id": "fGTKy6ZGjDzK"
      },
      "execution_count": 37,
      "outputs": []
    },
    {
      "cell_type": "code",
      "source": [
        "plt.plot(met_df['loss'], label = 'loss')\n",
        "plt.plot(met_df['val_loss'], label = 'val_loss')\n",
        "plt.xlabel('Epochs')\n",
        "plt.ylabel('loss')\n",
        "plt.legend()"
      ],
      "metadata": {
        "colab": {
          "base_uri": "https://localhost:8080/",
          "height": 467
        },
        "id": "MhtlmArOjF7k",
        "outputId": "69ba24f1-274a-4d4e-d284-3e4a9bf493f2"
      },
      "execution_count": 38,
      "outputs": [
        {
          "output_type": "execute_result",
          "data": {
            "text/plain": [
              "<matplotlib.legend.Legend at 0x7fde12831d30>"
            ]
          },
          "metadata": {},
          "execution_count": 38
        },
        {
          "output_type": "display_data",
          "data": {
            "text/plain": [
              "<Figure size 640x480 with 1 Axes>"
            ],
            "image/png": "[encoded data removed]"
          },
          "metadata": {}
        }
      ]
    },
    {
      "cell_type": "code",
      "source": [
        "plt.plot(met_df['root_mean_squared_error'], label = 'RMSE for training')\n",
        "plt.plot(met_df['val_root_mean_squared_error'], label = 'val_RMSE')\n",
        "plt.xlabel('Epochs')\n",
        "plt.ylabel('RSME')\n",
        "plt.legend()"
      ],
      "metadata": {
        "colab": {
          "base_uri": "https://localhost:8080/",
          "height": 467
        },
        "id": "2n-kTo2KjF4g",
        "outputId": "4ee7d407-cc34-425a-d8c2-445683c234db"
      },
      "execution_count": 39,
      "outputs": [
        {
          "output_type": "execute_result",
          "data": {
            "text/plain": [
              "<matplotlib.legend.Legend at 0x7fde12e23280>"
            ]
          },
          "metadata": {},
          "execution_count": 39
        },
        {
          "output_type": "display_data",
          "data": {
            "text/plain": [
              "<Figure size 640x480 with 1 Axes>"
            ],
            "image/png": "[encoded data removed]"
          },
          "metadata": {}
        }
      ]
    },
    {
      "cell_type": "code",
      "source": [],
      "metadata": {
        "id": "oTNhQx6Qj31B"
      },
      "execution_count": 26,
      "outputs": []
    },
    {
      "cell_type": "code",
      "source": [
        "df_val = dataframe.loc[dataframe['label'] == \"Validation\"]\n",
        "X_val =  df_val[['time', 'tem', 'heating rate']]\n",
        "y_val = df_val['DTG']\n",
        "Root_val = df_val['Root']\n",
        "X_val_df = pd.DataFrame(X_val)\n",
        "X_val_df = X_val_df.reset_index(drop = True)\n",
        "predictions = model.predict(X_val) \n",
        "prediction = pd.DataFrame(predictions)\n",
        "y_val_df =  pd.DataFrame(y_val)\n",
        "y_val_df = y_val_df.reset_index(drop= True)\n",
        "final_df = pd.concat([X_val_df,prediction,y_val_df],axis =1)\n",
        "final_df.rename(columns={0: \"preditions\"}, errors=\"raise\",inplace =  True)\n",
        "final_df.head(3)"
      ],
      "metadata": {
        "colab": {
          "base_uri": "https://localhost:8080/",
          "height": 162
        },
        "id": "ejByUUosjdDL",
        "outputId": "a7a48610-1ab1-4a00-f923-7e9bd1f8509b"
      },
      "execution_count": 40,
      "outputs": [
        {
          "output_type": "stream",
          "name": "stdout",
          "text": [
            "13/13 [==============================] - 0s 2ms/step\n"
          ]
        },
        {
          "output_type": "execute_result",
          "data": {
            "text/plain": [
              "       time       tem  heating rate  preditions       DTG\n",
              "0  0.000088  0.164399      0.986394   -0.002356  0.000007\n",
              "1  0.000306  0.301892      0.953342   -0.001405  0.000012\n",
              "2  0.000630  0.422885      0.906183   -0.000692  0.000016"
            ],
            "text/html": [
              "\n",
              "  <div id=\"df-95f87780-16ba-4d04-b0ee-efc22b0b0f1e\">\n",
              "    <div class=\"colab-df-container\">\n",
              "      <div>\n",
              "<style scoped>\n",
              "    .dataframe tbody tr th:only-of-type {\n",
              "        vertical-align: middle;\n",
              "    }\n",
              "\n",
              "    .dataframe tbody tr th {\n",
              "        vertical-align: top;\n",
              "    }\n",
              "\n",
              "    .dataframe thead th {\n",
              "        text-align: right;\n",
              "    }\n",
              "</style>\n",
              "<table border=\"1\" class=\"dataframe\">\n",
              "  <thead>\n",
              "    <tr style=\"text-align: right;\">\n",
              "      <th></th>\n",
              "      <th>time</th>\n",
              "      <th>tem</th>\n",
              "      <th>heating rate</th>\n",
              "      <th>preditions</th>\n",
              "      <th>DTG</th>\n",
              "    </tr>\n",
              "  </thead>\n",
              "  <tbody>\n",
              "    <tr>\n",
              "      <th>0</th>\n",
              "      <td>0.000088</td>\n",
              "      <td>0.164399</td>\n",
              "      <td>0.986394</td>\n",
              "      <td>-0.002356</td>\n",
              "      <td>0.000007</td>\n",
              "    </tr>\n",
              "    <tr>\n",
              "      <th>1</th>\n",
              "      <td>0.000306</td>\n",
              "      <td>0.301892</td>\n",
              "      <td>0.953342</td>\n",
              "      <td>-0.001405</td>\n",
              "      <td>0.000012</td>\n",
              "    </tr>\n",
              "    <tr>\n",
              "      <th>2</th>\n",
              "      <td>0.000630</td>\n",
              "      <td>0.422885</td>\n",
              "      <td>0.906183</td>\n",
              "      <td>-0.000692</td>\n",
              "      <td>0.000016</td>\n",
              "    </tr>\n",
              "  </tbody>\n",
              "</table>\n",
              "</div>\n",
              "      <button class=\"colab-df-convert\" onclick=\"convertToInteractive('df-95f87780-16ba-4d04-b0ee-efc22b0b0f1e')\"\n",
              "              title=\"Convert this dataframe to an interactive table.\"\n",
              "              style=\"display:none;\">\n",
              "        \n",
              "  <svg xmlns=\"http://www.w3.org/2000/svg\" height=\"24px\"viewBox=\"0 0 24 24\"\n",
              "       width=\"24px\">\n",
              "    <path d=\"M0 0h24v24H0V0z\" fill=\"none\"/>\n",
              "    <path d=\"M18.56 5.44l.94 2.06.94-2.06 2.06-.94-2.06-.94-.94-2.06-.94 2.06-2.06.94zm-11 1L8.5 8.5l.94-2.06 2.06-.94-2.06-.94L8.5 2.5l-.94 2.06-2.06.94zm10 10l.94 2.06.94-2.06 2.06-.94-2.06-.94-.94-2.06-.94 2.06-2.06.94z\"/><path d=\"M17.41 7.96l-1.37-1.37c-.4-.4-.92-.59-1.43-.59-.52 0-1.04.2-1.43.59L10.3 9.45l-7.72 7.72c-.78.78-.78 2.05 0 2.83L4 21.41c.39.39.9.59 1.41.59.51 0 1.02-.2 1.41-.59l7.78-7.78 2.81-2.81c.8-.78.8-2.07 0-2.86zM5.41 20L4 18.59l7.72-7.72 1.47 1.35L5.41 20z\"/>\n",
              "  </svg>\n",
              "      </button>\n",
              "      \n",
              "  <style>\n",
              "    .colab-df-container {\n",
              "      display:flex;\n",
              "      flex-wrap:wrap;\n",
              "      gap: 12px;\n",
              "    }\n",
              "\n",
              "    .colab-df-convert {\n",
              "      background-color: #E8F0FE;\n",
              "      border: none;\n",
              "      border-radius: 50%;\n",
              "      cursor: pointer;\n",
              "      display: none;\n",
              "      fill: #1967D2;\n",
              "      height: 32px;\n",
              "      padding: 0 0 0 0;\n",
              "      width: 32px;\n",
              "    }\n",
              "\n",
              "    .colab-df-convert:hover {\n",
              "      background-color: #E2EBFA;\n",
              "      box-shadow: 0px 1px 2px rgba(60, 64, 67, 0.3), 0px 1px 3px 1px rgba(60, 64, 67, 0.15);\n",
              "      fill: #174EA6;\n",
              "    }\n",
              "\n",
              "    [theme=dark] .colab-df-convert {\n",
              "      background-color: #3B4455;\n",
              "      fill: #D2E3FC;\n",
              "    }\n",
              "\n",
              "    [theme=dark] .colab-df-convert:hover {\n",
              "      background-color: #434B5C;\n",
              "      box-shadow: 0px 1px 3px 1px rgba(0, 0, 0, 0.15);\n",
              "      filter: drop-shadow(0px 1px 2px rgba(0, 0, 0, 0.3));\n",
              "      fill: #FFFFFF;\n",
              "    }\n",
              "  </style>\n",
              "\n",
              "      <script>\n",
              "        const buttonEl =\n",
              "          document.querySelector('#df-95f87780-16ba-4d04-b0ee-efc22b0b0f1e button.colab-df-convert');\n",
              "        buttonEl.style.display =\n",
              "          google.colab.kernel.accessAllowed ? 'block' : 'none';\n",
              "\n",
              "        async function convertToInteractive(key) {\n",
              "          const element = document.querySelector('#df-95f87780-16ba-4d04-b0ee-efc22b0b0f1e');\n",
              "          const dataTable =\n",
              "            await google.colab.kernel.invokeFunction('convertToInteractive',\n",
              "                                                     [key], {});\n",
              "          if (!dataTable) return;\n",
              "\n",
              "          const docLinkHtml = 'Like what you see? Visit the ' +\n",
              "            '<a target=\"_blank\" href=https://colab.research.google.com/notebooks/data_table.ipynb>data table notebook</a>'\n",
              "            + ' to learn more about interactive tables.';\n",
              "          element.innerHTML = '';\n",
              "          dataTable['output_type'] = 'display_data';\n",
              "          await google.colab.output.renderOutput(dataTable, element);\n",
              "          const docLink = document.createElement('div');\n",
              "          docLink.innerHTML = docLinkHtml;\n",
              "          element.appendChild(docLink);\n",
              "        }\n",
              "      </script>\n",
              "    </div>\n",
              "  </div>\n",
              "  "
            ]
          },
          "metadata": {},
          "execution_count": 40
        }
      ]
    },
    {
      "cell_type": "code",
      "source": [
        "print('MSE',mean_squared_error(y_val,predictions))\n",
        "print('RMSE',math.sqrt(mean_squared_error(y_val, predictions)))\n",
        "print('MAE',mean_absolute_error(y_val,predictions))\n",
        "print('R2_Score',r2_score(y_val,predictions))"
      ],
      "metadata": {
        "colab": {
          "base_uri": "https://localhost:8080/"
        },
        "id": "WYKOhdFqj94Z",
        "outputId": "19db41b7-9fb4-4875-8ca3-efd063525ec7"
      },
      "execution_count": 41,
      "outputs": [
        {
          "output_type": "stream",
          "name": "stdout",
          "text": [
            "MSE 2.125126271074418e-07\n",
            "RMSE 0.00046099091868218164\n",
            "MAE 0.00036833202801881635\n",
            "R2_Score -211.45991251056168\n"
          ]
        }
      ]
    },
    {
      "cell_type": "code",
      "source": [
        "x = final_df['DTG']\n",
        "y = final_df['preditions']\n",
        "a,b = np.polyfit(x,y,1)\n",
        "sns.scatterplot(data=final_df, x='DTG', y='preditions', color='black', label='Predicted Values')\n",
        "plt.plot(x, a*x+b, color='blue', label = 'Best Fit') \n",
        "plt.title('Best fit for ANN on Validation Set')\n",
        "plt.legend()"
      ],
      "metadata": {
        "colab": {
          "base_uri": "https://localhost:8080/",
          "height": 490
        },
        "id": "Oe_DMuLJkJ_i",
        "outputId": "447bbcb5-5772-47ae-fee0-90dd39927c15"
      },
      "execution_count": 43,
      "outputs": [
        {
          "output_type": "execute_result",
          "data": {
            "text/plain": [
              "<matplotlib.legend.Legend at 0x7fde1ca80040>"
            ]
          },
          "metadata": {},
          "execution_count": 43
        },
        {
          "output_type": "display_data",
          "data": {
            "text/plain": [
              "<Figure size 640x480 with 1 Axes>"
            ],
            "image/png": "[encoded data removed]"
          },
          "metadata": {}
        }
      ]
    },
    {
      "cell_type": "code",
      "source": [
        "df_test = dataframe.loc[dataframe['label'] == \"Test\"]\n",
        "X_test =  df_test[['time', 'tem', 'heating rate']]\n",
        "y_test = df_test['DTG']\n",
        "Root_test = df_test['Root']\n",
        "predictions = model.predict(X_test)  \n",
        "prediction_test  = pd.DataFrame(predictions)\n",
        "print('MSE',mean_squared_error(y_test,predictions))\n",
        "print('RMSE',math.sqrt(mean_squared_error(y_test, predictions)))\n",
        "print('MAE',mean_absolute_error(y_test,predictions))\n",
        "print('R2_Score',r2_score(y_test,predictions))"
      ],
      "metadata": {
        "colab": {
          "base_uri": "https://localhost:8080/"
        },
        "id": "QAtGGNTjkdEd",
        "outputId": "5e479a21-7ddc-4a33-a0f1-fe1f2001ad5b"
      },
      "execution_count": 44,
      "outputs": [
        {
          "output_type": "stream",
          "name": "stdout",
          "text": [
            "13/13 [==============================] - 0s 2ms/step\n",
            "MSE 2.2132505528904342e-07\n",
            "RMSE 0.0004704519691626802\n",
            "MAE 0.00037107020320536116\n",
            "R2_Score -222.0003548405779\n"
          ]
        }
      ]
    },
    {
      "cell_type": "code",
      "source": [
        "X_test_df = pd.DataFrame(X_test)\n",
        "X_test_df = X_test_df.reset_index(drop = True)\n",
        "prediction = pd.DataFrame(predictions)\n",
        "y_test_df =  pd.DataFrame(y_test)\n",
        "y_test_df = y_test_df.reset_index(drop= True)\n",
        "final_df_test = pd.concat([X_test_df,prediction,y_test_df],axis =1)\n",
        "final_df_test.rename(columns={0: \"predictions_test\"}, errors=\"raise\",inplace =  True)\n",
        "final_df_test"
      ],
      "metadata": {
        "colab": {
          "base_uri": "https://localhost:8080/",
          "height": 423
        },
        "id": "qD3yiHe7kdA-",
        "outputId": "3a8d4dd1-23d2-424a-a83f-8f56bf3d6a02"
      },
      "execution_count": 45,
      "outputs": [
        {
          "output_type": "execute_result",
          "data": {
            "text/plain": [
              "         time       tem  heating rate  predictions_test       DTG\n",
              "0    0.000022  0.083045      0.996546         -0.002983  0.000003\n",
              "1    0.000337  0.316228      0.948683         -0.001315  0.000013\n",
              "2    0.000550  0.397607      0.917555         -0.000830  0.000016\n",
              "3    0.000983  0.514496      0.857493         -0.000238  0.000018\n",
              "4    0.001692  0.640183      0.768220          0.000233  0.000017\n",
              "..        ...       ...           ...               ...       ...\n",
              "401  0.068849  0.997515      0.014940          0.000086 -0.000015\n",
              "402  0.068903  0.997512      0.014907          0.000088 -0.000015\n",
              "403  0.068976  0.997508      0.014862          0.000090 -0.000015\n",
              "404  0.069053  0.997503      0.014814          0.000092 -0.000015\n",
              "405  0.069118  0.997499      0.014767          0.000094 -0.000015\n",
              "\n",
              "[406 rows x 5 columns]"
            ],
            "text/html": [
              "\n",
              "  <div id=\"df-59eac620-852f-4e29-a79d-e8a7f2f302f8\">\n",
              "    <div class=\"colab-df-container\">\n",
              "      <div>\n",
              "<style scoped>\n",
              "    .dataframe tbody tr th:only-of-type {\n",
              "        vertical-align: middle;\n",
              "    }\n",
              "\n",
              "    .dataframe tbody tr th {\n",
              "        vertical-align: top;\n",
              "    }\n",
              "\n",
              "    .dataframe thead th {\n",
              "        text-align: right;\n",
              "    }\n",
              "</style>\n",
              "<table border=\"1\" class=\"dataframe\">\n",
              "  <thead>\n",
              "    <tr style=\"text-align: right;\">\n",
              "      <th></th>\n",
              "      <th>time</th>\n",
              "      <th>tem</th>\n",
              "      <th>heating rate</th>\n",
              "      <th>predictions_test</th>\n",
              "      <th>DTG</th>\n",
              "    </tr>\n",
              "  </thead>\n",
              "  <tbody>\n",
              "    <tr>\n",
              "      <th>0</th>\n",
              "      <td>0.000022</td>\n",
              "      <td>0.083045</td>\n",
              "      <td>0.996546</td>\n",
              "      <td>-0.002983</td>\n",
              "      <td>0.000003</td>\n",
              "    </tr>\n",
              "    <tr>\n",
              "      <th>1</th>\n",
              "      <td>0.000337</td>\n",
              "      <td>0.316228</td>\n",
              "      <td>0.948683</td>\n",
              "      <td>-0.001315</td>\n",
              "      <td>0.000013</td>\n",
              "    </tr>\n",
              "    <tr>\n",
              "      <th>2</th>\n",
              "      <td>0.000550</td>\n",
              "      <td>0.397607</td>\n",
              "      <td>0.917555</td>\n",
              "      <td>-0.000830</td>\n",
              "      <td>0.000016</td>\n",
              "    </tr>\n",
              "    <tr>\n",
              "      <th>3</th>\n",
              "      <td>0.000983</td>\n",
              "      <td>0.514496</td>\n",
              "      <td>0.857493</td>\n",
              "      <td>-0.000238</td>\n",
              "      <td>0.000018</td>\n",
              "    </tr>\n",
              "    <tr>\n",
              "      <th>4</th>\n",
              "      <td>0.001692</td>\n",
              "      <td>0.640183</td>\n",
              "      <td>0.768220</td>\n",
              "      <td>0.000233</td>\n",
              "      <td>0.000017</td>\n",
              "    </tr>\n",
              "    <tr>\n",
              "      <th>...</th>\n",
              "      <td>...</td>\n",
              "      <td>...</td>\n",
              "      <td>...</td>\n",
              "      <td>...</td>\n",
              "      <td>...</td>\n",
              "    </tr>\n",
              "    <tr>\n",
              "      <th>401</th>\n",
              "      <td>0.068849</td>\n",
              "      <td>0.997515</td>\n",
              "      <td>0.014940</td>\n",
              "      <td>0.000086</td>\n",
              "      <td>-0.000015</td>\n",
              "    </tr>\n",
              "    <tr>\n",
              "      <th>402</th>\n",
              "      <td>0.068903</td>\n",
              "      <td>0.997512</td>\n",
              "      <td>0.014907</td>\n",
              "      <td>0.000088</td>\n",
              "      <td>-0.000015</td>\n",
              "    </tr>\n",
              "    <tr>\n",
              "      <th>403</th>\n",
              "      <td>0.068976</td>\n",
              "      <td>0.997508</td>\n",
              "      <td>0.014862</td>\n",
              "      <td>0.000090</td>\n",
              "      <td>-0.000015</td>\n",
              "    </tr>\n",
              "    <tr>\n",
              "      <th>404</th>\n",
              "      <td>0.069053</td>\n",
              "      <td>0.997503</td>\n",
              "      <td>0.014814</td>\n",
              "      <td>0.000092</td>\n",
              "      <td>-0.000015</td>\n",
              "    </tr>\n",
              "    <tr>\n",
              "      <th>405</th>\n",
              "      <td>0.069118</td>\n",
              "      <td>0.997499</td>\n",
              "      <td>0.014767</td>\n",
              "      <td>0.000094</td>\n",
              "      <td>-0.000015</td>\n",
              "    </tr>\n",
              "  </tbody>\n",
              "</table>\n",
              "<p>406 rows × 5 columns</p>\n",
              "</div>\n",
              "      <button class=\"colab-df-convert\" onclick=\"convertToInteractive('df-59eac620-852f-4e29-a79d-e8a7f2f302f8')\"\n",
              "              title=\"Convert this dataframe to an interactive table.\"\n",
              "              style=\"display:none;\">\n",
              "        \n",
              "  <svg xmlns=\"http://www.w3.org/2000/svg\" height=\"24px\"viewBox=\"0 0 24 24\"\n",
              "       width=\"24px\">\n",
              "    <path d=\"M0 0h24v24H0V0z\" fill=\"none\"/>\n",
              "    <path d=\"M18.56 5.44l.94 2.06.94-2.06 2.06-.94-2.06-.94-.94-2.06-.94 2.06-2.06.94zm-11 1L8.5 8.5l.94-2.06 2.06-.94-2.06-.94L8.5 2.5l-.94 2.06-2.06.94zm10 10l.94 2.06.94-2.06 2.06-.94-2.06-.94-.94-2.06-.94 2.06-2.06.94z\"/><path d=\"M17.41 7.96l-1.37-1.37c-.4-.4-.92-.59-1.43-.59-.52 0-1.04.2-1.43.59L10.3 9.45l-7.72 7.72c-.78.78-.78 2.05 0 2.83L4 21.41c.39.39.9.59 1.41.59.51 0 1.02-.2 1.41-.59l7.78-7.78 2.81-2.81c.8-.78.8-2.07 0-2.86zM5.41 20L4 18.59l7.72-7.72 1.47 1.35L5.41 20z\"/>\n",
              "  </svg>\n",
              "      </button>\n",
              "      \n",
              "  <style>\n",
              "    .colab-df-container {\n",
              "      display:flex;\n",
              "      flex-wrap:wrap;\n",
              "      gap: 12px;\n",
              "    }\n",
              "\n",
              "    .colab-df-convert {\n",
              "      background-color: #E8F0FE;\n",
              "      border: none;\n",
              "      border-radius: 50%;\n",
              "      cursor: pointer;\n",
              "      display: none;\n",
              "      fill: #1967D2;\n",
              "      height: 32px;\n",
              "      padding: 0 0 0 0;\n",
              "      width: 32px;\n",
              "    }\n",
              "\n",
              "    .colab-df-convert:hover {\n",
              "      background-color: #E2EBFA;\n",
              "      box-shadow: 0px 1px 2px rgba(60, 64, 67, 0.3), 0px 1px 3px 1px rgba(60, 64, 67, 0.15);\n",
              "      fill: #174EA6;\n",
              "    }\n",
              "\n",
              "    [theme=dark] .colab-df-convert {\n",
              "      background-color: #3B4455;\n",
              "      fill: #D2E3FC;\n",
              "    }\n",
              "\n",
              "    [theme=dark] .colab-df-convert:hover {\n",
              "      background-color: #434B5C;\n",
              "      box-shadow: 0px 1px 3px 1px rgba(0, 0, 0, 0.15);\n",
              "      filter: drop-shadow(0px 1px 2px rgba(0, 0, 0, 0.3));\n",
              "      fill: #FFFFFF;\n",
              "    }\n",
              "  </style>\n",
              "\n",
              "      <script>\n",
              "        const buttonEl =\n",
              "          document.querySelector('#df-59eac620-852f-4e29-a79d-e8a7f2f302f8 button.colab-df-convert');\n",
              "        buttonEl.style.display =\n",
              "          google.colab.kernel.accessAllowed ? 'block' : 'none';\n",
              "\n",
              "        async function convertToInteractive(key) {\n",
              "          const element = document.querySelector('#df-59eac620-852f-4e29-a79d-e8a7f2f302f8');\n",
              "          const dataTable =\n",
              "            await google.colab.kernel.invokeFunction('convertToInteractive',\n",
              "                                                     [key], {});\n",
              "          if (!dataTable) return;\n",
              "\n",
              "          const docLinkHtml = 'Like what you see? Visit the ' +\n",
              "            '<a target=\"_blank\" href=https://colab.research.google.com/notebooks/data_table.ipynb>data table notebook</a>'\n",
              "            + ' to learn more about interactive tables.';\n",
              "          element.innerHTML = '';\n",
              "          dataTable['output_type'] = 'display_data';\n",
              "          await google.colab.output.renderOutput(dataTable, element);\n",
              "          const docLink = document.createElement('div');\n",
              "          docLink.innerHTML = docLinkHtml;\n",
              "          element.appendChild(docLink);\n",
              "        }\n",
              "      </script>\n",
              "    </div>\n",
              "  </div>\n",
              "  "
            ]
          },
          "metadata": {},
          "execution_count": 45
        }
      ]
    },
    {
      "cell_type": "code",
      "source": [
        "x = final_df_test['DTG']\n",
        "y = final_df_test['predictions_test']\n",
        "a,b = np.polyfit(x,y,1)\n",
        "sns.scatterplot(data=final_df_test, x='DTG', y='predictions_test', color='black', label='Predicted Values')\n",
        "plt.plot(x, a*x+b, color='green', label = 'Best Fit') \n",
        "plt.title('Best fit for ANN on Test Set')\n",
        "plt.legend()"
      ],
      "metadata": {
        "colab": {
          "base_uri": "https://localhost:8080/",
          "height": 490
        },
        "id": "Dk3y547Sl8E5",
        "outputId": "8ebba04b-f180-412f-c565-7e033c37da11"
      },
      "execution_count": 46,
      "outputs": [
        {
          "output_type": "execute_result",
          "data": {
            "text/plain": [
              "<matplotlib.legend.Legend at 0x7fde12b21d90>"
            ]
          },
          "metadata": {},
          "execution_count": 46
        },
        {
          "output_type": "display_data",
          "data": {
            "text/plain": [
              "<Figure size 640x480 with 1 Axes>"
            ],
            "image/png": "[encoded data removed]"
          },
          "metadata": {}
        }
      ]
    },
    {
      "cell_type": "code",
      "source": [
        "from tensorflow.keras.utils import plot_model"
      ],
      "metadata": {
        "id": "dZBZA1IYmGuF"
      },
      "execution_count": 47,
      "outputs": []
    },
    {
      "cell_type": "code",
      "source": [
        "plot_model(model, to_file='/content/model.jpg',show_shapes=True)"
      ],
      "metadata": {
        "colab": {
          "base_uri": "https://localhost:8080/",
          "height": 422
        },
        "id": "kVkZ18GNmLEb",
        "outputId": "956146f0-4b92-49fa-e6da-2f168d08b24d"
      },
      "execution_count": 48,
      "outputs": [
        {
          "output_type": "execute_result",
          "data": {
            "image/jpeg": "[encoded data removed]",
            "text/plain": [
              "<IPython.core.display.Image object>"
            ]
          },
          "metadata": {},
          "execution_count": 48
        }
      ]
    },
    {
      "cell_type": "code",
      "source": [],
      "metadata": {
        "id": "OaMXvkTYmUtV"
      },
      "execution_count": null,
      "outputs": []
    }
  ]
}